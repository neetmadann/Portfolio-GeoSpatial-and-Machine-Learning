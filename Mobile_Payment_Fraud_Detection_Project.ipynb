{
  "cells": [
    {
      "cell_type": "markdown",
      "metadata": {
        "id": "view-in-github",
        "colab_type": "text"
      },
      "source": [
        "<a href=\"https://colab.research.google.com/github/neetmadann/Portfolio-GeoSpatial-and-Machine-Learning/blob/main/Mobile_Payment_Fraud_Detection_Project.ipynb\" target=\"_parent\"><img src=\"https://colab.research.google.com/assets/colab-badge.svg\" alt=\"Open In Colab\"/></a>"
      ]
    },
    {
      "cell_type": "code",
      "execution_count": null,
      "id": "573d9541",
      "metadata": {
        "id": "573d9541"
      },
      "outputs": [],
      "source": [
        "#imported packages such as pandas, numpy, matploblib and seaborn\n",
        "import pandas as pd\n",
        "import numpy as np\n",
        "import datetime as dt\n",
        "import seaborn as sns\n",
        "import matplotlib\n",
        "import os\n",
        "import matplotlib.pyplot as plt\n",
        "import matplotlib.dates as md\n",
        "from itertools import cycle, islice\n",
        "\n",
        "# Model evaluations\n",
        "from sklearn.model_selection import train_test_split\n",
        "from sklearn.dummy import DummyClassifier\n",
        "from sklearn.metrics import accuracy_score, f1_score, confusion_matrix, recall_score\n",
        "from sklearn.metrics import average_precision_score\n",
        "from sklearn.metrics import confusion_matrix, classification_report # classification metrics\n",
        "\n",
        "# Models from Scikit-Learn\n",
        "from sklearn import preprocessing\n",
        "from collections import OrderedDict\n",
        "from sklearn.datasets import make_classification\n",
        "from sklearn.linear_model import LogisticRegression\n",
        "from sklearn.neighbors import KNeighborsClassifier\n",
        "from sklearn.ensemble import RandomForestClassifier\n",
        "from sklearn.naive_bayes import GaussianNB # Gaussain Naive Bayes\n",
        "from sklearn.tree import DecisionTreeClassifier # Decision Tree\n",
        "from sklearn.ensemble import RandomForestClassifier # Random Forest\n",
        "from sklearn.ensemble import AdaBoostClassifier # Adaptive Boosting Classifier\n",
        "from sklearn.ensemble import BaggingClassifier # Bootstrap Aggregating Classifier\n",
        "\n",
        "# Data Preparation (imbalanced and standardization)\n",
        "from imblearn.over_sampling import SMOTE # SMOTE\n",
        "from sklearn.preprocessing import StandardScaler # scaling method\n",
        "from collections import Counter\n",
        "from sklearn.datasets import make_classification\n",
        "\n",
        "\n",
        "\n",
        "from sklearn.model_selection import GridSearchCV # grid search cross validation\n",
        "from sklearn.model_selection import RandomizedSearchCV # randomized search cross validation\n",
        "\n",
        "#settings\n",
        "pd.options.display.float_format = '{:.2f}'.format\n",
        "\n"
      ]
    },
    {
      "cell_type": "code",
      "execution_count": null,
      "id": "2653fbad",
      "metadata": {
        "id": "2653fbad"
      },
      "outputs": [],
      "source": [
        "df = pd.read_csv('Fraud.csv')"
      ]
    },
    {
      "cell_type": "code",
      "execution_count": null,
      "id": "0ef86d39",
      "metadata": {
        "id": "0ef86d39",
        "outputId": "f821288a-bc45-46e2-bf98-fefcdc77ec1d"
      },
      "outputs": [
        {
          "data": {
            "text/html": [
              "<div>\n",
              "<style scoped>\n",
              "    .dataframe tbody tr th:only-of-type {\n",
              "        vertical-align: middle;\n",
              "    }\n",
              "\n",
              "    .dataframe tbody tr th {\n",
              "        vertical-align: top;\n",
              "    }\n",
              "\n",
              "    .dataframe thead th {\n",
              "        text-align: right;\n",
              "    }\n",
              "</style>\n",
              "<table border=\"1\" class=\"dataframe\">\n",
              "  <thead>\n",
              "    <tr style=\"text-align: right;\">\n",
              "      <th></th>\n",
              "      <th>step</th>\n",
              "      <th>type</th>\n",
              "      <th>amount</th>\n",
              "      <th>nameOrig</th>\n",
              "      <th>oldbalanceOrg</th>\n",
              "      <th>newbalanceOrig</th>\n",
              "      <th>nameDest</th>\n",
              "      <th>oldbalanceDest</th>\n",
              "      <th>newbalanceDest</th>\n",
              "      <th>isFraud</th>\n",
              "      <th>isFlaggedFraud</th>\n",
              "    </tr>\n",
              "  </thead>\n",
              "  <tbody>\n",
              "    <tr>\n",
              "      <th>0</th>\n",
              "      <td>1</td>\n",
              "      <td>PAYMENT</td>\n",
              "      <td>9839.64</td>\n",
              "      <td>C1231006815</td>\n",
              "      <td>170136.00</td>\n",
              "      <td>160296.36</td>\n",
              "      <td>M1979787155</td>\n",
              "      <td>0.00</td>\n",
              "      <td>0.00</td>\n",
              "      <td>0</td>\n",
              "      <td>0</td>\n",
              "    </tr>\n",
              "    <tr>\n",
              "      <th>1</th>\n",
              "      <td>1</td>\n",
              "      <td>PAYMENT</td>\n",
              "      <td>1864.28</td>\n",
              "      <td>C1666544295</td>\n",
              "      <td>21249.00</td>\n",
              "      <td>19384.72</td>\n",
              "      <td>M2044282225</td>\n",
              "      <td>0.00</td>\n",
              "      <td>0.00</td>\n",
              "      <td>0</td>\n",
              "      <td>0</td>\n",
              "    </tr>\n",
              "    <tr>\n",
              "      <th>2</th>\n",
              "      <td>1</td>\n",
              "      <td>TRANSFER</td>\n",
              "      <td>181.00</td>\n",
              "      <td>C1305486145</td>\n",
              "      <td>181.00</td>\n",
              "      <td>0.00</td>\n",
              "      <td>C553264065</td>\n",
              "      <td>0.00</td>\n",
              "      <td>0.00</td>\n",
              "      <td>1</td>\n",
              "      <td>0</td>\n",
              "    </tr>\n",
              "    <tr>\n",
              "      <th>3</th>\n",
              "      <td>1</td>\n",
              "      <td>CASH_OUT</td>\n",
              "      <td>181.00</td>\n",
              "      <td>C840083671</td>\n",
              "      <td>181.00</td>\n",
              "      <td>0.00</td>\n",
              "      <td>C38997010</td>\n",
              "      <td>21182.00</td>\n",
              "      <td>0.00</td>\n",
              "      <td>1</td>\n",
              "      <td>0</td>\n",
              "    </tr>\n",
              "    <tr>\n",
              "      <th>4</th>\n",
              "      <td>1</td>\n",
              "      <td>PAYMENT</td>\n",
              "      <td>11668.14</td>\n",
              "      <td>C2048537720</td>\n",
              "      <td>41554.00</td>\n",
              "      <td>29885.86</td>\n",
              "      <td>M1230701703</td>\n",
              "      <td>0.00</td>\n",
              "      <td>0.00</td>\n",
              "      <td>0</td>\n",
              "      <td>0</td>\n",
              "    </tr>\n",
              "  </tbody>\n",
              "</table>\n",
              "</div>"
            ],
            "text/plain": [
              "   step      type   amount     nameOrig  oldbalanceOrg  newbalanceOrig  \\\n",
              "0     1   PAYMENT  9839.64  C1231006815      170136.00       160296.36   \n",
              "1     1   PAYMENT  1864.28  C1666544295       21249.00        19384.72   \n",
              "2     1  TRANSFER   181.00  C1305486145         181.00            0.00   \n",
              "3     1  CASH_OUT   181.00   C840083671         181.00            0.00   \n",
              "4     1   PAYMENT 11668.14  C2048537720       41554.00        29885.86   \n",
              "\n",
              "      nameDest  oldbalanceDest  newbalanceDest  isFraud  isFlaggedFraud  \n",
              "0  M1979787155            0.00            0.00        0               0  \n",
              "1  M2044282225            0.00            0.00        0               0  \n",
              "2   C553264065            0.00            0.00        1               0  \n",
              "3    C38997010        21182.00            0.00        1               0  \n",
              "4  M1230701703            0.00            0.00        0               0  "
            ]
          },
          "execution_count": 4,
          "metadata": {},
          "output_type": "execute_result"
        }
      ],
      "source": [
        "df.head()"
      ]
    },
    {
      "cell_type": "code",
      "execution_count": null,
      "id": "a5b04d90",
      "metadata": {
        "id": "a5b04d90",
        "outputId": "ae660e72-33d3-4cf5-9c3e-a7c8d9acbead"
      },
      "outputs": [
        {
          "data": {
            "text/plain": [
              "step                int64\n",
              "type               object\n",
              "amount            float64\n",
              "nameOrig           object\n",
              "oldbalanceOrg     float64\n",
              "newbalanceOrig    float64\n",
              "nameDest           object\n",
              "oldbalanceDest    float64\n",
              "newbalanceDest    float64\n",
              "isFraud             int64\n",
              "isFlaggedFraud      int64\n",
              "dtype: object"
            ]
          },
          "execution_count": 5,
          "metadata": {},
          "output_type": "execute_result"
        }
      ],
      "source": [
        "df.dtypes"
      ]
    },
    {
      "cell_type": "code",
      "execution_count": null,
      "id": "41188fe9",
      "metadata": {
        "id": "41188fe9",
        "outputId": "854361ea-85f1-4f59-e77b-bbd7301a7f24"
      },
      "outputs": [
        {
          "name": "stderr",
          "output_type": "stream",
          "text": [
            "C:\\Users\\neetm\\AppData\\Local\\Temp/ipykernel_25856/1982639406.py:1: FutureWarning: null_counts is deprecated. Use show_counts instead\n",
            "  df.info(null_counts=True)\n"
          ]
        },
        {
          "name": "stdout",
          "output_type": "stream",
          "text": [
            "<class 'pandas.core.frame.DataFrame'>\n",
            "RangeIndex: 6362620 entries, 0 to 6362619\n",
            "Data columns (total 11 columns):\n",
            " #   Column          Non-Null Count    Dtype  \n",
            "---  ------          --------------    -----  \n",
            " 0   step            6362620 non-null  int64  \n",
            " 1   type            6362620 non-null  object \n",
            " 2   amount          6362620 non-null  float64\n",
            " 3   nameOrig        6362620 non-null  object \n",
            " 4   oldbalanceOrg   6362620 non-null  float64\n",
            " 5   newbalanceOrig  6362620 non-null  float64\n",
            " 6   nameDest        6362620 non-null  object \n",
            " 7   oldbalanceDest  6362620 non-null  float64\n",
            " 8   newbalanceDest  6362620 non-null  float64\n",
            " 9   isFraud         6362620 non-null  int64  \n",
            " 10  isFlaggedFraud  6362620 non-null  int64  \n",
            "dtypes: float64(5), int64(3), object(3)\n",
            "memory usage: 534.0+ MB\n"
          ]
        }
      ],
      "source": [
        "df.info(null_counts=True)"
      ]
    },
    {
      "cell_type": "code",
      "execution_count": null,
      "id": "fda82404",
      "metadata": {
        "id": "fda82404",
        "outputId": "e43d7c16-1fb1-4db1-c50e-249c677e216a"
      },
      "outputs": [
        {
          "data": {
            "text/plain": [
              "False"
            ]
          },
          "execution_count": 7,
          "metadata": {},
          "output_type": "execute_result"
        }
      ],
      "source": [
        "df.isnull().values.any()"
      ]
    },
    {
      "cell_type": "code",
      "execution_count": null,
      "id": "4f19e905",
      "metadata": {
        "id": "4f19e905",
        "outputId": "83d49f14-398e-40c9-e5ef-07fbef580ce1"
      },
      "outputs": [
        {
          "data": {
            "text/plain": [
              "{'step': 743,\n",
              " 'type': 5,\n",
              " 'amount': 5316900,\n",
              " 'nameOrig': 6353307,\n",
              " 'oldbalanceOrg': 1845844,\n",
              " 'newbalanceOrig': 2682586,\n",
              " 'nameDest': 2722362,\n",
              " 'oldbalanceDest': 3614697,\n",
              " 'newbalanceDest': 3555499,\n",
              " 'isFraud': 2,\n",
              " 'isFlaggedFraud': 2}"
            ]
          },
          "execution_count": 8,
          "metadata": {},
          "output_type": "execute_result"
        }
      ],
      "source": [
        "{column: len(df[column].unique()) for column in df.columns}"
      ]
    },
    {
      "cell_type": "code",
      "execution_count": null,
      "id": "25b15f79",
      "metadata": {
        "id": "25b15f79",
        "outputId": "13db0419-6541-49a4-d538-7163d1226301"
      },
      "outputs": [
        {
          "ename": "KeyError",
          "evalue": "\"['nameOrig' 'nameDest'] not found in axis\"",
          "output_type": "error",
          "traceback": [
            "\u001b[1;31m---------------------------------------------------------------------------\u001b[0m",
            "\u001b[1;31mKeyError\u001b[0m                                  Traceback (most recent call last)",
            "\u001b[1;32m~\\AppData\\Local\\Temp/ipykernel_25856/3645454751.py\u001b[0m in \u001b[0;36m<module>\u001b[1;34m\u001b[0m\n\u001b[1;32m----> 1\u001b[1;33m \u001b[0mdf\u001b[0m \u001b[1;33m=\u001b[0m \u001b[0mdf\u001b[0m\u001b[1;33m.\u001b[0m\u001b[0mdrop\u001b[0m\u001b[1;33m(\u001b[0m\u001b[1;33m[\u001b[0m\u001b[1;34m'nameOrig'\u001b[0m\u001b[1;33m,\u001b[0m \u001b[1;34m'nameDest'\u001b[0m\u001b[1;33m]\u001b[0m\u001b[1;33m,\u001b[0m \u001b[0maxis\u001b[0m\u001b[1;33m=\u001b[0m\u001b[1;36m1\u001b[0m\u001b[1;33m)\u001b[0m\u001b[1;33m\u001b[0m\u001b[1;33m\u001b[0m\u001b[0m\n\u001b[0m",
            "\u001b[1;32mD:\\Anaconda\\lib\\site-packages\\pandas\\util\\_decorators.py\u001b[0m in \u001b[0;36mwrapper\u001b[1;34m(*args, **kwargs)\u001b[0m\n\u001b[0;32m    309\u001b[0m                     \u001b[0mstacklevel\u001b[0m\u001b[1;33m=\u001b[0m\u001b[0mstacklevel\u001b[0m\u001b[1;33m,\u001b[0m\u001b[1;33m\u001b[0m\u001b[1;33m\u001b[0m\u001b[0m\n\u001b[0;32m    310\u001b[0m                 )\n\u001b[1;32m--> 311\u001b[1;33m             \u001b[1;32mreturn\u001b[0m \u001b[0mfunc\u001b[0m\u001b[1;33m(\u001b[0m\u001b[1;33m*\u001b[0m\u001b[0margs\u001b[0m\u001b[1;33m,\u001b[0m \u001b[1;33m**\u001b[0m\u001b[0mkwargs\u001b[0m\u001b[1;33m)\u001b[0m\u001b[1;33m\u001b[0m\u001b[1;33m\u001b[0m\u001b[0m\n\u001b[0m\u001b[0;32m    312\u001b[0m \u001b[1;33m\u001b[0m\u001b[0m\n\u001b[0;32m    313\u001b[0m         \u001b[1;32mreturn\u001b[0m \u001b[0mwrapper\u001b[0m\u001b[1;33m\u001b[0m\u001b[1;33m\u001b[0m\u001b[0m\n",
            "\u001b[1;32mD:\\Anaconda\\lib\\site-packages\\pandas\\core\\frame.py\u001b[0m in \u001b[0;36mdrop\u001b[1;34m(self, labels, axis, index, columns, level, inplace, errors)\u001b[0m\n\u001b[0;32m   4904\u001b[0m                 \u001b[0mweight\u001b[0m  \u001b[1;36m1.0\u001b[0m     \u001b[1;36m0.8\u001b[0m\u001b[1;33m\u001b[0m\u001b[1;33m\u001b[0m\u001b[0m\n\u001b[0;32m   4905\u001b[0m         \"\"\"\n\u001b[1;32m-> 4906\u001b[1;33m         return super().drop(\n\u001b[0m\u001b[0;32m   4907\u001b[0m             \u001b[0mlabels\u001b[0m\u001b[1;33m=\u001b[0m\u001b[0mlabels\u001b[0m\u001b[1;33m,\u001b[0m\u001b[1;33m\u001b[0m\u001b[1;33m\u001b[0m\u001b[0m\n\u001b[0;32m   4908\u001b[0m             \u001b[0maxis\u001b[0m\u001b[1;33m=\u001b[0m\u001b[0maxis\u001b[0m\u001b[1;33m,\u001b[0m\u001b[1;33m\u001b[0m\u001b[1;33m\u001b[0m\u001b[0m\n",
            "\u001b[1;32mD:\\Anaconda\\lib\\site-packages\\pandas\\core\\generic.py\u001b[0m in \u001b[0;36mdrop\u001b[1;34m(self, labels, axis, index, columns, level, inplace, errors)\u001b[0m\n\u001b[0;32m   4148\u001b[0m         \u001b[1;32mfor\u001b[0m \u001b[0maxis\u001b[0m\u001b[1;33m,\u001b[0m \u001b[0mlabels\u001b[0m \u001b[1;32min\u001b[0m \u001b[0maxes\u001b[0m\u001b[1;33m.\u001b[0m\u001b[0mitems\u001b[0m\u001b[1;33m(\u001b[0m\u001b[1;33m)\u001b[0m\u001b[1;33m:\u001b[0m\u001b[1;33m\u001b[0m\u001b[1;33m\u001b[0m\u001b[0m\n\u001b[0;32m   4149\u001b[0m             \u001b[1;32mif\u001b[0m \u001b[0mlabels\u001b[0m \u001b[1;32mis\u001b[0m \u001b[1;32mnot\u001b[0m \u001b[1;32mNone\u001b[0m\u001b[1;33m:\u001b[0m\u001b[1;33m\u001b[0m\u001b[1;33m\u001b[0m\u001b[0m\n\u001b[1;32m-> 4150\u001b[1;33m                 \u001b[0mobj\u001b[0m \u001b[1;33m=\u001b[0m \u001b[0mobj\u001b[0m\u001b[1;33m.\u001b[0m\u001b[0m_drop_axis\u001b[0m\u001b[1;33m(\u001b[0m\u001b[0mlabels\u001b[0m\u001b[1;33m,\u001b[0m \u001b[0maxis\u001b[0m\u001b[1;33m,\u001b[0m \u001b[0mlevel\u001b[0m\u001b[1;33m=\u001b[0m\u001b[0mlevel\u001b[0m\u001b[1;33m,\u001b[0m \u001b[0merrors\u001b[0m\u001b[1;33m=\u001b[0m\u001b[0merrors\u001b[0m\u001b[1;33m)\u001b[0m\u001b[1;33m\u001b[0m\u001b[1;33m\u001b[0m\u001b[0m\n\u001b[0m\u001b[0;32m   4151\u001b[0m \u001b[1;33m\u001b[0m\u001b[0m\n\u001b[0;32m   4152\u001b[0m         \u001b[1;32mif\u001b[0m \u001b[0minplace\u001b[0m\u001b[1;33m:\u001b[0m\u001b[1;33m\u001b[0m\u001b[1;33m\u001b[0m\u001b[0m\n",
            "\u001b[1;32mD:\\Anaconda\\lib\\site-packages\\pandas\\core\\generic.py\u001b[0m in \u001b[0;36m_drop_axis\u001b[1;34m(self, labels, axis, level, errors)\u001b[0m\n\u001b[0;32m   4183\u001b[0m                 \u001b[0mnew_axis\u001b[0m \u001b[1;33m=\u001b[0m \u001b[0maxis\u001b[0m\u001b[1;33m.\u001b[0m\u001b[0mdrop\u001b[0m\u001b[1;33m(\u001b[0m\u001b[0mlabels\u001b[0m\u001b[1;33m,\u001b[0m \u001b[0mlevel\u001b[0m\u001b[1;33m=\u001b[0m\u001b[0mlevel\u001b[0m\u001b[1;33m,\u001b[0m \u001b[0merrors\u001b[0m\u001b[1;33m=\u001b[0m\u001b[0merrors\u001b[0m\u001b[1;33m)\u001b[0m\u001b[1;33m\u001b[0m\u001b[1;33m\u001b[0m\u001b[0m\n\u001b[0;32m   4184\u001b[0m             \u001b[1;32melse\u001b[0m\u001b[1;33m:\u001b[0m\u001b[1;33m\u001b[0m\u001b[1;33m\u001b[0m\u001b[0m\n\u001b[1;32m-> 4185\u001b[1;33m                 \u001b[0mnew_axis\u001b[0m \u001b[1;33m=\u001b[0m \u001b[0maxis\u001b[0m\u001b[1;33m.\u001b[0m\u001b[0mdrop\u001b[0m\u001b[1;33m(\u001b[0m\u001b[0mlabels\u001b[0m\u001b[1;33m,\u001b[0m \u001b[0merrors\u001b[0m\u001b[1;33m=\u001b[0m\u001b[0merrors\u001b[0m\u001b[1;33m)\u001b[0m\u001b[1;33m\u001b[0m\u001b[1;33m\u001b[0m\u001b[0m\n\u001b[0m\u001b[0;32m   4186\u001b[0m             \u001b[0mresult\u001b[0m \u001b[1;33m=\u001b[0m \u001b[0mself\u001b[0m\u001b[1;33m.\u001b[0m\u001b[0mreindex\u001b[0m\u001b[1;33m(\u001b[0m\u001b[1;33m**\u001b[0m\u001b[1;33m{\u001b[0m\u001b[0maxis_name\u001b[0m\u001b[1;33m:\u001b[0m \u001b[0mnew_axis\u001b[0m\u001b[1;33m}\u001b[0m\u001b[1;33m)\u001b[0m\u001b[1;33m\u001b[0m\u001b[1;33m\u001b[0m\u001b[0m\n\u001b[0;32m   4187\u001b[0m \u001b[1;33m\u001b[0m\u001b[0m\n",
            "\u001b[1;32mD:\\Anaconda\\lib\\site-packages\\pandas\\core\\indexes\\base.py\u001b[0m in \u001b[0;36mdrop\u001b[1;34m(self, labels, errors)\u001b[0m\n\u001b[0;32m   6015\u001b[0m         \u001b[1;32mif\u001b[0m \u001b[0mmask\u001b[0m\u001b[1;33m.\u001b[0m\u001b[0many\u001b[0m\u001b[1;33m(\u001b[0m\u001b[1;33m)\u001b[0m\u001b[1;33m:\u001b[0m\u001b[1;33m\u001b[0m\u001b[1;33m\u001b[0m\u001b[0m\n\u001b[0;32m   6016\u001b[0m             \u001b[1;32mif\u001b[0m \u001b[0merrors\u001b[0m \u001b[1;33m!=\u001b[0m \u001b[1;34m\"ignore\"\u001b[0m\u001b[1;33m:\u001b[0m\u001b[1;33m\u001b[0m\u001b[1;33m\u001b[0m\u001b[0m\n\u001b[1;32m-> 6017\u001b[1;33m                 \u001b[1;32mraise\u001b[0m \u001b[0mKeyError\u001b[0m\u001b[1;33m(\u001b[0m\u001b[1;34mf\"{labels[mask]} not found in axis\"\u001b[0m\u001b[1;33m)\u001b[0m\u001b[1;33m\u001b[0m\u001b[1;33m\u001b[0m\u001b[0m\n\u001b[0m\u001b[0;32m   6018\u001b[0m             \u001b[0mindexer\u001b[0m \u001b[1;33m=\u001b[0m \u001b[0mindexer\u001b[0m\u001b[1;33m[\u001b[0m\u001b[1;33m~\u001b[0m\u001b[0mmask\u001b[0m\u001b[1;33m]\u001b[0m\u001b[1;33m\u001b[0m\u001b[1;33m\u001b[0m\u001b[0m\n\u001b[0;32m   6019\u001b[0m         \u001b[1;32mreturn\u001b[0m \u001b[0mself\u001b[0m\u001b[1;33m.\u001b[0m\u001b[0mdelete\u001b[0m\u001b[1;33m(\u001b[0m\u001b[0mindexer\u001b[0m\u001b[1;33m)\u001b[0m\u001b[1;33m\u001b[0m\u001b[1;33m\u001b[0m\u001b[0m\n",
            "\u001b[1;31mKeyError\u001b[0m: \"['nameOrig' 'nameDest'] not found in axis\""
          ]
        }
      ],
      "source": [
        "df = df.drop(['nameOrig', 'nameDest'], axis=1)"
      ]
    },
    {
      "cell_type": "code",
      "execution_count": null,
      "id": "bb0e61f0",
      "metadata": {
        "id": "bb0e61f0",
        "outputId": "016cec16-6267-4a8d-f793-1880498e6619"
      },
      "outputs": [
        {
          "name": "stdout",
          "output_type": "stream",
          "text": [
            "['PAYMENT' 'TRANSFER' 'CASH_OUT' 'DEBIT' 'CASH_IN']\n"
          ]
        }
      ],
      "source": [
        "print(df['type'].unique())"
      ]
    },
    {
      "cell_type": "code",
      "execution_count": null,
      "id": "2a1bde4b",
      "metadata": {
        "id": "2a1bde4b",
        "outputId": "47305f6b-df60-490c-e106-a98f3db4d6fc"
      },
      "outputs": [
        {
          "name": "stdout",
          "output_type": "stream",
          "text": [
            "6362620\n",
            "CASH_OUT    2237500\n",
            "PAYMENT     2151495\n",
            "CASH_IN     1399284\n",
            "TRANSFER     532909\n",
            "DEBIT         41432\n",
            "Name: type, dtype: int64\n"
          ]
        }
      ],
      "source": [
        "print(df['type'].count()) #total counts\n",
        "print(df['type'].value_counts())"
      ]
    },
    {
      "cell_type": "code",
      "execution_count": null,
      "id": "cdc75576",
      "metadata": {
        "id": "cdc75576",
        "outputId": "b60d6c41-f233-4cfe-9e4f-8aafb715d408"
      },
      "outputs": [
        {
          "name": "stdout",
          "output_type": "stream",
          "text": [
            "[0 1]\n",
            "[0 1]\n"
          ]
        }
      ],
      "source": [
        "print(df['isFraud'].unique())\n",
        "print(df['isFlaggedFraud'].unique())"
      ]
    },
    {
      "cell_type": "code",
      "execution_count": null,
      "id": "043158e1",
      "metadata": {
        "id": "043158e1"
      },
      "outputs": [],
      "source": [
        "# change categorical variable to binary and change unknown value in Sex to NaN for now\n",
        "#df['isFraud'].replace(1,'Fraud',inplace=True) #change to categorical for ease\n",
        "#df['isFraud'].replace(0,'Non_Fraud',inplace=True) #change to categorical for ease"
      ]
    },
    {
      "cell_type": "code",
      "execution_count": null,
      "id": "d3b9bbff",
      "metadata": {
        "id": "d3b9bbff",
        "outputId": "db7391f6-3733-4a0a-d392-11ca00e884ad"
      },
      "outputs": [
        {
          "data": {
            "text/plain": [
              "Text(0.5, 1.0, 'Imbalanced Dataset')"
            ]
          },
          "execution_count": 16,
          "metadata": {},
          "output_type": "execute_result"
        },
        {
          "data": {
            "image/png": "[encoded data removed]",
            "text/plain": [
              "<Figure size 432x288 with 1 Axes>"
            ]
          },
          "metadata": {
            "needs_background": "light"
          },
          "output_type": "display_data"
        }
      ],
      "source": [
        "ax = sns.countplot(x=df['isFraud'],\n",
        "                   order=df['isFraud'].value_counts(ascending=False).index); #plot nominal data frequency distribution\n",
        "abs_values = df['isFraud'].value_counts(ascending=False).values\n",
        "ax.bar_label(container=ax.containers[0], labels=abs_values)\n",
        "plt.xlabel(\"Classification\")\n",
        "plt.ylabel(\"Count of Transactions\")\n",
        "plt.title(\"Imbalanced Dataset\")\n",
        "#strategic \n",
        "\n",
        "#SMOTE #oversampling #undersampling"
      ]
    },
    {
      "cell_type": "code",
      "execution_count": null,
      "id": "3fdd369f",
      "metadata": {
        "id": "3fdd369f"
      },
      "outputs": [],
      "source": [
        "#(df['isFraud'].value_counts()['1']/len(df['isFraud']))*100\n"
      ]
    },
    {
      "cell_type": "code",
      "execution_count": null,
      "id": "9a011567",
      "metadata": {
        "id": "9a011567"
      },
      "outputs": [],
      "source": [
        "#df['isFraud'].value_counts()['Non_Fraud']"
      ]
    },
    {
      "cell_type": "code",
      "execution_count": null,
      "id": "c974fa79",
      "metadata": {
        "id": "c974fa79",
        "outputId": "75edc6e3-1f1a-45cf-9a62-cc03fbae5906"
      },
      "outputs": [
        {
          "data": {
            "text/plain": [
              "[Text(0, 0, '6362604'), Text(0, 0, '16')]"
            ]
          },
          "execution_count": 19,
          "metadata": {},
          "output_type": "execute_result"
        },
        {
          "data": {
            "image/png": "[encoded data removed]",
            "text/plain": [
              "<Figure size 432x288 with 1 Axes>"
            ]
          },
          "metadata": {
            "needs_background": "light"
          },
          "output_type": "display_data"
        }
      ],
      "source": [
        "ax = sns.countplot(x=df['isFlaggedFraud'],\n",
        "                   order=df['isFlaggedFraud'].value_counts(ascending=False).index); #plot nominal data frequency distribution\n",
        "abs_values = df['isFlaggedFraud'].value_counts(ascending=False).values\n",
        "ax.bar_label(container=ax.containers[0], labels=abs_values)"
      ]
    },
    {
      "cell_type": "code",
      "execution_count": null,
      "id": "57fa0f6a",
      "metadata": {
        "id": "57fa0f6a",
        "outputId": "defb72f4-a14c-4715-a099-cc1f06f71ff9"
      },
      "outputs": [
        {
          "name": "stdout",
          "output_type": "stream",
          "text": [
            "CASH_OUT    2237500\n",
            "PAYMENT     2151495\n",
            "CASH_IN     1399284\n",
            "TRANSFER     532909\n",
            "DEBIT         41432\n",
            "Name: type, dtype: int64\n"
          ]
        },
        {
          "data": {
            "image/png": "[encoded data removed]",
            "text/plain": [
              "<Figure size 576x576 with 1 Axes>"
            ]
          },
          "metadata": {
            "needs_background": "light"
          },
          "output_type": "display_data"
        }
      ],
      "source": [
        "print(df.type.value_counts())\n",
        "\n",
        "f, ax = plt.subplots(1, 1, figsize=(8, 6))\n",
        "my_colors = list(islice(cycle(['b', 'r', 'g', 'y', 'k']), None, len(df)))\n",
        "df.type.value_counts().plot(kind='bar', title=\"Transaction type\", ax=ax, figsize=(8,8),color=plt.cm.Paired(np.arange(len(df.type.unique()))))\n",
        "plt.ylabel(\"Count of Transactions\", size=12)\n",
        "plt.title(\"Count of Transactions by Type\", size=15)\n",
        "plt.show()"
      ]
    },
    {
      "cell_type": "code",
      "execution_count": null,
      "id": "f4abdbbb",
      "metadata": {
        "id": "f4abdbbb"
      },
      "outputs": [],
      "source": [
        "le = preprocessing.LabelEncoder()\n",
        "df.type = le.fit_transform(df.type)"
      ]
    },
    {
      "cell_type": "code",
      "execution_count": null,
      "id": "b0dc2ccb",
      "metadata": {
        "id": "b0dc2ccb",
        "outputId": "2a1011a1-c4a0-4d09-f7d0-d98eb1bf1cf2"
      },
      "outputs": [
        {
          "data": {
            "text/html": [
              "<div>\n",
              "<style scoped>\n",
              "    .dataframe tbody tr th:only-of-type {\n",
              "        vertical-align: middle;\n",
              "    }\n",
              "\n",
              "    .dataframe tbody tr th {\n",
              "        vertical-align: top;\n",
              "    }\n",
              "\n",
              "    .dataframe thead th {\n",
              "        text-align: right;\n",
              "    }\n",
              "</style>\n",
              "<table border=\"1\" class=\"dataframe\">\n",
              "  <thead>\n",
              "    <tr style=\"text-align: right;\">\n",
              "      <th></th>\n",
              "      <th>step</th>\n",
              "      <th>type</th>\n",
              "      <th>amount</th>\n",
              "      <th>oldbalanceOrg</th>\n",
              "      <th>newbalanceOrig</th>\n",
              "      <th>oldbalanceDest</th>\n",
              "      <th>newbalanceDest</th>\n",
              "      <th>isFraud</th>\n",
              "      <th>isFlaggedFraud</th>\n",
              "    </tr>\n",
              "  </thead>\n",
              "  <tbody>\n",
              "    <tr>\n",
              "      <th>0</th>\n",
              "      <td>1</td>\n",
              "      <td>3</td>\n",
              "      <td>9839.64</td>\n",
              "      <td>170136.00</td>\n",
              "      <td>160296.36</td>\n",
              "      <td>0.00</td>\n",
              "      <td>0.00</td>\n",
              "      <td>0</td>\n",
              "      <td>0</td>\n",
              "    </tr>\n",
              "    <tr>\n",
              "      <th>1</th>\n",
              "      <td>1</td>\n",
              "      <td>3</td>\n",
              "      <td>1864.28</td>\n",
              "      <td>21249.00</td>\n",
              "      <td>19384.72</td>\n",
              "      <td>0.00</td>\n",
              "      <td>0.00</td>\n",
              "      <td>0</td>\n",
              "      <td>0</td>\n",
              "    </tr>\n",
              "    <tr>\n",
              "      <th>2</th>\n",
              "      <td>1</td>\n",
              "      <td>4</td>\n",
              "      <td>181.00</td>\n",
              "      <td>181.00</td>\n",
              "      <td>0.00</td>\n",
              "      <td>0.00</td>\n",
              "      <td>0.00</td>\n",
              "      <td>1</td>\n",
              "      <td>0</td>\n",
              "    </tr>\n",
              "    <tr>\n",
              "      <th>3</th>\n",
              "      <td>1</td>\n",
              "      <td>1</td>\n",
              "      <td>181.00</td>\n",
              "      <td>181.00</td>\n",
              "      <td>0.00</td>\n",
              "      <td>21182.00</td>\n",
              "      <td>0.00</td>\n",
              "      <td>1</td>\n",
              "      <td>0</td>\n",
              "    </tr>\n",
              "    <tr>\n",
              "      <th>4</th>\n",
              "      <td>1</td>\n",
              "      <td>3</td>\n",
              "      <td>11668.14</td>\n",
              "      <td>41554.00</td>\n",
              "      <td>29885.86</td>\n",
              "      <td>0.00</td>\n",
              "      <td>0.00</td>\n",
              "      <td>0</td>\n",
              "      <td>0</td>\n",
              "    </tr>\n",
              "  </tbody>\n",
              "</table>\n",
              "</div>"
            ],
            "text/plain": [
              "   step  type   amount  oldbalanceOrg  newbalanceOrig  oldbalanceDest  \\\n",
              "0     1     3  9839.64      170136.00       160296.36            0.00   \n",
              "1     1     3  1864.28       21249.00        19384.72            0.00   \n",
              "2     1     4   181.00         181.00            0.00            0.00   \n",
              "3     1     1   181.00         181.00            0.00        21182.00   \n",
              "4     1     3 11668.14       41554.00        29885.86            0.00   \n",
              "\n",
              "   newbalanceDest  isFraud  isFlaggedFraud  \n",
              "0            0.00        0               0  \n",
              "1            0.00        0               0  \n",
              "2            0.00        1               0  \n",
              "3            0.00        1               0  \n",
              "4            0.00        0               0  "
            ]
          },
          "execution_count": 22,
          "metadata": {},
          "output_type": "execute_result"
        }
      ],
      "source": [
        "df.head()"
      ]
    },
    {
      "cell_type": "code",
      "execution_count": null,
      "id": "481cf5f3",
      "metadata": {
        "id": "481cf5f3",
        "outputId": "a25c1f5c-3389-478a-fa89-1b5fe8ca3af9"
      },
      "outputs": [
        {
          "data": {
            "text/html": [
              "<div>\n",
              "<style scoped>\n",
              "    .dataframe tbody tr th:only-of-type {\n",
              "        vertical-align: middle;\n",
              "    }\n",
              "\n",
              "    .dataframe tbody tr th {\n",
              "        vertical-align: top;\n",
              "    }\n",
              "\n",
              "    .dataframe thead th {\n",
              "        text-align: right;\n",
              "    }\n",
              "</style>\n",
              "<table border=\"1\" class=\"dataframe\">\n",
              "  <thead>\n",
              "    <tr style=\"text-align: right;\">\n",
              "      <th></th>\n",
              "      <th>step</th>\n",
              "      <th>type</th>\n",
              "      <th>amount</th>\n",
              "      <th>oldbalanceOrg</th>\n",
              "      <th>newbalanceOrig</th>\n",
              "      <th>oldbalanceDest</th>\n",
              "      <th>newbalanceDest</th>\n",
              "      <th>isFraud</th>\n",
              "      <th>isFlaggedFraud</th>\n",
              "    </tr>\n",
              "  </thead>\n",
              "  <tbody>\n",
              "    <tr>\n",
              "      <th>count</th>\n",
              "      <td>6362620.00</td>\n",
              "      <td>6362620.00</td>\n",
              "      <td>6362620.00</td>\n",
              "      <td>6362620.00</td>\n",
              "      <td>6362620.00</td>\n",
              "      <td>6362620.00</td>\n",
              "      <td>6362620.00</td>\n",
              "      <td>6362620.00</td>\n",
              "      <td>6362620.00</td>\n",
              "    </tr>\n",
              "    <tr>\n",
              "      <th>mean</th>\n",
              "      <td>243.40</td>\n",
              "      <td>1.71</td>\n",
              "      <td>179861.90</td>\n",
              "      <td>833883.10</td>\n",
              "      <td>855113.67</td>\n",
              "      <td>1100701.67</td>\n",
              "      <td>1224996.40</td>\n",
              "      <td>0.00</td>\n",
              "      <td>0.00</td>\n",
              "    </tr>\n",
              "    <tr>\n",
              "      <th>std</th>\n",
              "      <td>142.33</td>\n",
              "      <td>1.35</td>\n",
              "      <td>603858.23</td>\n",
              "      <td>2888242.67</td>\n",
              "      <td>2924048.50</td>\n",
              "      <td>3399180.11</td>\n",
              "      <td>3674128.94</td>\n",
              "      <td>0.04</td>\n",
              "      <td>0.00</td>\n",
              "    </tr>\n",
              "    <tr>\n",
              "      <th>min</th>\n",
              "      <td>1.00</td>\n",
              "      <td>0.00</td>\n",
              "      <td>0.00</td>\n",
              "      <td>0.00</td>\n",
              "      <td>0.00</td>\n",
              "      <td>0.00</td>\n",
              "      <td>0.00</td>\n",
              "      <td>0.00</td>\n",
              "      <td>0.00</td>\n",
              "    </tr>\n",
              "    <tr>\n",
              "      <th>25%</th>\n",
              "      <td>156.00</td>\n",
              "      <td>1.00</td>\n",
              "      <td>13389.57</td>\n",
              "      <td>0.00</td>\n",
              "      <td>0.00</td>\n",
              "      <td>0.00</td>\n",
              "      <td>0.00</td>\n",
              "      <td>0.00</td>\n",
              "      <td>0.00</td>\n",
              "    </tr>\n",
              "    <tr>\n",
              "      <th>50%</th>\n",
              "      <td>239.00</td>\n",
              "      <td>1.00</td>\n",
              "      <td>74871.94</td>\n",
              "      <td>14208.00</td>\n",
              "      <td>0.00</td>\n",
              "      <td>132705.66</td>\n",
              "      <td>214661.44</td>\n",
              "      <td>0.00</td>\n",
              "      <td>0.00</td>\n",
              "    </tr>\n",
              "    <tr>\n",
              "      <th>75%</th>\n",
              "      <td>335.00</td>\n",
              "      <td>3.00</td>\n",
              "      <td>208721.48</td>\n",
              "      <td>107315.18</td>\n",
              "      <td>144258.41</td>\n",
              "      <td>943036.71</td>\n",
              "      <td>1111909.25</td>\n",
              "      <td>0.00</td>\n",
              "      <td>0.00</td>\n",
              "    </tr>\n",
              "    <tr>\n",
              "      <th>max</th>\n",
              "      <td>743.00</td>\n",
              "      <td>4.00</td>\n",
              "      <td>92445516.64</td>\n",
              "      <td>59585040.37</td>\n",
              "      <td>49585040.37</td>\n",
              "      <td>356015889.35</td>\n",
              "      <td>356179278.92</td>\n",
              "      <td>1.00</td>\n",
              "      <td>1.00</td>\n",
              "    </tr>\n",
              "  </tbody>\n",
              "</table>\n",
              "</div>"
            ],
            "text/plain": [
              "            step       type      amount  oldbalanceOrg  newbalanceOrig  \\\n",
              "count 6362620.00 6362620.00  6362620.00     6362620.00      6362620.00   \n",
              "mean      243.40       1.71   179861.90      833883.10       855113.67   \n",
              "std       142.33       1.35   603858.23     2888242.67      2924048.50   \n",
              "min         1.00       0.00        0.00           0.00            0.00   \n",
              "25%       156.00       1.00    13389.57           0.00            0.00   \n",
              "50%       239.00       1.00    74871.94       14208.00            0.00   \n",
              "75%       335.00       3.00   208721.48      107315.18       144258.41   \n",
              "max       743.00       4.00 92445516.64    59585040.37     49585040.37   \n",
              "\n",
              "       oldbalanceDest  newbalanceDest    isFraud  isFlaggedFraud  \n",
              "count      6362620.00      6362620.00 6362620.00      6362620.00  \n",
              "mean       1100701.67      1224996.40       0.00            0.00  \n",
              "std        3399180.11      3674128.94       0.04            0.00  \n",
              "min              0.00            0.00       0.00            0.00  \n",
              "25%              0.00            0.00       0.00            0.00  \n",
              "50%         132705.66       214661.44       0.00            0.00  \n",
              "75%         943036.71      1111909.25       0.00            0.00  \n",
              "max      356015889.35    356179278.92       1.00            1.00  "
            ]
          },
          "execution_count": 23,
          "metadata": {},
          "output_type": "execute_result"
        }
      ],
      "source": [
        "df.describe()"
      ]
    },
    {
      "cell_type": "code",
      "execution_count": null,
      "id": "633dc50a",
      "metadata": {
        "id": "633dc50a"
      },
      "outputs": [],
      "source": [
        "#Setting feature vector and target variable\n",
        "target_variable = 'isFraud'\n",
        "y = df.isFraud #add target variable Severity to y - dependent variable\n",
        "X = df.drop(['step','isFraud', 'isFlaggedFraud'], axis=1)  #remove target variable from x features, and rest are features"
      ]
    },
    {
      "cell_type": "code",
      "execution_count": null,
      "id": "481b75cd",
      "metadata": {
        "id": "481b75cd",
        "outputId": "4d34c17e-d2ce-4e7a-9dde-8e58df783663"
      },
      "outputs": [
        {
          "data": {
            "text/html": [
              "<div>\n",
              "<style scoped>\n",
              "    .dataframe tbody tr th:only-of-type {\n",
              "        vertical-align: middle;\n",
              "    }\n",
              "\n",
              "    .dataframe tbody tr th {\n",
              "        vertical-align: top;\n",
              "    }\n",
              "\n",
              "    .dataframe thead th {\n",
              "        text-align: right;\n",
              "    }\n",
              "</style>\n",
              "<table border=\"1\" class=\"dataframe\">\n",
              "  <thead>\n",
              "    <tr style=\"text-align: right;\">\n",
              "      <th></th>\n",
              "      <th>type</th>\n",
              "      <th>amount</th>\n",
              "      <th>oldbalanceOrg</th>\n",
              "      <th>newbalanceOrig</th>\n",
              "      <th>oldbalanceDest</th>\n",
              "      <th>newbalanceDest</th>\n",
              "      <th>isFraud</th>\n",
              "    </tr>\n",
              "  </thead>\n",
              "  <tbody>\n",
              "    <tr>\n",
              "      <th>count</th>\n",
              "      <td>6362620.00</td>\n",
              "      <td>6362620.00</td>\n",
              "      <td>6362620.00</td>\n",
              "      <td>6362620.00</td>\n",
              "      <td>6362620.00</td>\n",
              "      <td>6362620.00</td>\n",
              "      <td>6362620.00</td>\n",
              "    </tr>\n",
              "    <tr>\n",
              "      <th>mean</th>\n",
              "      <td>1.71</td>\n",
              "      <td>179861.90</td>\n",
              "      <td>833883.10</td>\n",
              "      <td>855113.67</td>\n",
              "      <td>1100701.67</td>\n",
              "      <td>1224996.40</td>\n",
              "      <td>0.00</td>\n",
              "    </tr>\n",
              "    <tr>\n",
              "      <th>std</th>\n",
              "      <td>1.35</td>\n",
              "      <td>603858.23</td>\n",
              "      <td>2888242.67</td>\n",
              "      <td>2924048.50</td>\n",
              "      <td>3399180.11</td>\n",
              "      <td>3674128.94</td>\n",
              "      <td>0.04</td>\n",
              "    </tr>\n",
              "    <tr>\n",
              "      <th>min</th>\n",
              "      <td>0.00</td>\n",
              "      <td>0.00</td>\n",
              "      <td>0.00</td>\n",
              "      <td>0.00</td>\n",
              "      <td>0.00</td>\n",
              "      <td>0.00</td>\n",
              "      <td>0.00</td>\n",
              "    </tr>\n",
              "    <tr>\n",
              "      <th>25%</th>\n",
              "      <td>1.00</td>\n",
              "      <td>13389.57</td>\n",
              "      <td>0.00</td>\n",
              "      <td>0.00</td>\n",
              "      <td>0.00</td>\n",
              "      <td>0.00</td>\n",
              "      <td>0.00</td>\n",
              "    </tr>\n",
              "    <tr>\n",
              "      <th>50%</th>\n",
              "      <td>1.00</td>\n",
              "      <td>74871.94</td>\n",
              "      <td>14208.00</td>\n",
              "      <td>0.00</td>\n",
              "      <td>132705.66</td>\n",
              "      <td>214661.44</td>\n",
              "      <td>0.00</td>\n",
              "    </tr>\n",
              "    <tr>\n",
              "      <th>75%</th>\n",
              "      <td>3.00</td>\n",
              "      <td>208721.48</td>\n",
              "      <td>107315.18</td>\n",
              "      <td>144258.41</td>\n",
              "      <td>943036.71</td>\n",
              "      <td>1111909.25</td>\n",
              "      <td>0.00</td>\n",
              "    </tr>\n",
              "    <tr>\n",
              "      <th>max</th>\n",
              "      <td>4.00</td>\n",
              "      <td>92445516.64</td>\n",
              "      <td>59585040.37</td>\n",
              "      <td>49585040.37</td>\n",
              "      <td>356015889.35</td>\n",
              "      <td>356179278.92</td>\n",
              "      <td>1.00</td>\n",
              "    </tr>\n",
              "  </tbody>\n",
              "</table>\n",
              "</div>"
            ],
            "text/plain": [
              "            type      amount  oldbalanceOrg  newbalanceOrig  oldbalanceDest  \\\n",
              "count 6362620.00  6362620.00     6362620.00      6362620.00      6362620.00   \n",
              "mean        1.71   179861.90      833883.10       855113.67      1100701.67   \n",
              "std         1.35   603858.23     2888242.67      2924048.50      3399180.11   \n",
              "min         0.00        0.00           0.00            0.00            0.00   \n",
              "25%         1.00    13389.57           0.00            0.00            0.00   \n",
              "50%         1.00    74871.94       14208.00            0.00       132705.66   \n",
              "75%         3.00   208721.48      107315.18       144258.41       943036.71   \n",
              "max         4.00 92445516.64    59585040.37     49585040.37    356015889.35   \n",
              "\n",
              "       newbalanceDest    isFraud  \n",
              "count      6362620.00 6362620.00  \n",
              "mean       1224996.40       0.00  \n",
              "std        3674128.94       0.04  \n",
              "min              0.00       0.00  \n",
              "25%              0.00       0.00  \n",
              "50%         214661.44       0.00  \n",
              "75%        1111909.25       0.00  \n",
              "max      356179278.92       1.00  "
            ]
          },
          "execution_count": 25,
          "metadata": {},
          "output_type": "execute_result"
        }
      ],
      "source": [
        "used = df[['type', 'amount', 'oldbalanceOrg', 'newbalanceOrig','oldbalanceDest', 'newbalanceDest', 'isFraud']]\n",
        "used.describe()"
      ]
    },
    {
      "cell_type": "code",
      "execution_count": null,
      "id": "d9cf72a0",
      "metadata": {
        "scrolled": false,
        "id": "d9cf72a0",
        "outputId": "50c846ee-ac19-480f-d865-45fe2fd6b729"
      },
      "outputs": [
        {
          "name": "stdout",
          "output_type": "stream",
          "text": [
            "The shape of X and y are\n",
            "(6362620, 6) (6362620,)\n"
          ]
        }
      ],
      "source": [
        "print('The shape of X and y are') \n",
        "# summarize the dataset\n",
        "print(X.shape, y.shape)"
      ]
    },
    {
      "cell_type": "code",
      "execution_count": null,
      "id": "297b4620",
      "metadata": {
        "id": "297b4620"
      },
      "outputs": [],
      "source": [
        "from sklearn.preprocessing import StandardScaler\n",
        "sc = StandardScaler()\n",
        "X_scaled = sc.fit_transform(X)"
      ]
    },
    {
      "cell_type": "code",
      "execution_count": null,
      "id": "2c794bfc",
      "metadata": {
        "id": "2c794bfc"
      },
      "outputs": [],
      "source": [
        "X= pd.DataFrame(X_scaled, index=X.index, columns=X.columns)"
      ]
    },
    {
      "cell_type": "code",
      "execution_count": null,
      "id": "787f8bba",
      "metadata": {
        "id": "787f8bba",
        "outputId": "7d8d921f-7c8b-4f86-ba88-dc524225db80"
      },
      "outputs": [
        {
          "data": {
            "text/plain": [
              "0.49999795681653153"
            ]
          },
          "execution_count": 29,
          "metadata": {},
          "output_type": "execute_result"
        }
      ],
      "source": [
        "#baseline \n",
        "from sklearn.dummy import DummyClassifier\n",
        "\n",
        "dummy_clf = DummyClassifier(strategy='uniform')\n",
        "dummy_clf.fit(X, y)\n",
        "DummyClassifier(strategy='uniform')\n",
        "dummy_clf.score(X, y)"
      ]
    },
    {
      "cell_type": "code",
      "execution_count": null,
      "id": "1157e75b",
      "metadata": {
        "id": "1157e75b",
        "outputId": "dbe16bfe-757e-4a63-d374-9bf32b81158b"
      },
      "outputs": [
        {
          "data": {
            "text/html": [
              "<div>\n",
              "<style scoped>\n",
              "    .dataframe tbody tr th:only-of-type {\n",
              "        vertical-align: middle;\n",
              "    }\n",
              "\n",
              "    .dataframe tbody tr th {\n",
              "        vertical-align: top;\n",
              "    }\n",
              "\n",
              "    .dataframe thead th {\n",
              "        text-align: right;\n",
              "    }\n",
              "</style>\n",
              "<table border=\"1\" class=\"dataframe\">\n",
              "  <thead>\n",
              "    <tr style=\"text-align: right;\">\n",
              "      <th></th>\n",
              "      <th>type</th>\n",
              "      <th>amount</th>\n",
              "      <th>oldbalanceOrg</th>\n",
              "      <th>newbalanceOrig</th>\n",
              "      <th>oldbalanceDest</th>\n",
              "      <th>newbalanceDest</th>\n",
              "    </tr>\n",
              "  </thead>\n",
              "  <tbody>\n",
              "    <tr>\n",
              "      <th>type</th>\n",
              "      <td>1.00</td>\n",
              "      <td>0.09</td>\n",
              "      <td>-0.34</td>\n",
              "      <td>-0.35</td>\n",
              "      <td>-0.10</td>\n",
              "      <td>-0.06</td>\n",
              "    </tr>\n",
              "    <tr>\n",
              "      <th>amount</th>\n",
              "      <td>0.09</td>\n",
              "      <td>1.00</td>\n",
              "      <td>-0.00</td>\n",
              "      <td>-0.01</td>\n",
              "      <td>0.29</td>\n",
              "      <td>0.46</td>\n",
              "    </tr>\n",
              "    <tr>\n",
              "      <th>oldbalanceOrg</th>\n",
              "      <td>-0.34</td>\n",
              "      <td>-0.00</td>\n",
              "      <td>1.00</td>\n",
              "      <td>1.00</td>\n",
              "      <td>0.07</td>\n",
              "      <td>0.04</td>\n",
              "    </tr>\n",
              "    <tr>\n",
              "      <th>newbalanceOrig</th>\n",
              "      <td>-0.35</td>\n",
              "      <td>-0.01</td>\n",
              "      <td>1.00</td>\n",
              "      <td>1.00</td>\n",
              "      <td>0.07</td>\n",
              "      <td>0.04</td>\n",
              "    </tr>\n",
              "    <tr>\n",
              "      <th>oldbalanceDest</th>\n",
              "      <td>-0.10</td>\n",
              "      <td>0.29</td>\n",
              "      <td>0.07</td>\n",
              "      <td>0.07</td>\n",
              "      <td>1.00</td>\n",
              "      <td>0.98</td>\n",
              "    </tr>\n",
              "    <tr>\n",
              "      <th>newbalanceDest</th>\n",
              "      <td>-0.06</td>\n",
              "      <td>0.46</td>\n",
              "      <td>0.04</td>\n",
              "      <td>0.04</td>\n",
              "      <td>0.98</td>\n",
              "      <td>1.00</td>\n",
              "    </tr>\n",
              "  </tbody>\n",
              "</table>\n",
              "</div>"
            ],
            "text/plain": [
              "                type  amount  oldbalanceOrg  newbalanceOrig  oldbalanceDest  \\\n",
              "type            1.00    0.09          -0.34           -0.35           -0.10   \n",
              "amount          0.09    1.00          -0.00           -0.01            0.29   \n",
              "oldbalanceOrg  -0.34   -0.00           1.00            1.00            0.07   \n",
              "newbalanceOrig -0.35   -0.01           1.00            1.00            0.07   \n",
              "oldbalanceDest -0.10    0.29           0.07            0.07            1.00   \n",
              "newbalanceDest -0.06    0.46           0.04            0.04            0.98   \n",
              "\n",
              "                newbalanceDest  \n",
              "type                     -0.06  \n",
              "amount                    0.46  \n",
              "oldbalanceOrg             0.04  \n",
              "newbalanceOrig            0.04  \n",
              "oldbalanceDest            0.98  \n",
              "newbalanceDest            1.00  "
            ]
          },
          "metadata": {},
          "output_type": "display_data"
        }
      ],
      "source": [
        "#check multicollinearity of first 30 features as an example\n",
        "display(X.corr()) #display correlation to check multicollinearity of feature dataset"
      ]
    },
    {
      "cell_type": "code",
      "execution_count": null,
      "id": "2e0f64f8",
      "metadata": {
        "id": "2e0f64f8",
        "outputId": "192553d2-4035-47ce-a845-013b7cbbb242"
      },
      "outputs": [
        {
          "name": "stdout",
          "output_type": "stream",
          "text": [
            "Counter({0: 8213, 1: 8213})\n"
          ]
        }
      ],
      "source": [
        "# example of random undersampling to balance the class distribution\n",
        "from collections import Counter\n",
        "from sklearn.datasets import make_classification\n",
        "from imblearn.under_sampling import RandomUnderSampler\n",
        "# define undersample strategy\n",
        "undersample = RandomUnderSampler(sampling_strategy='majority')\n",
        "# fit and apply the transform\n",
        "X_over, y_over = undersample.fit_resample(X, y)\n",
        "# summarize class distribution\n",
        "print(Counter(y_over))"
      ]
    },
    {
      "cell_type": "code",
      "execution_count": null,
      "id": "f24b47b2",
      "metadata": {
        "id": "f24b47b2",
        "outputId": "a7e56767-186d-41a6-d404-67d8e264af69"
      },
      "outputs": [
        {
          "data": {
            "text/plain": [
              "Text(0.5, 1.0, 'Balanced Dataset')"
            ]
          },
          "execution_count": 32,
          "metadata": {},
          "output_type": "execute_result"
        },
        {
          "data": {
            "image/png": "[encoded data removed]",
            "text/plain": [
              "<Figure size 432x288 with 1 Axes>"
            ]
          },
          "metadata": {
            "needs_background": "light"
          },
          "output_type": "display_data"
        }
      ],
      "source": [
        "ax = sns.countplot(x=y_over,\n",
        "                   order=y_over.value_counts(ascending=False).index); #plot nominal data frequency distribution\n",
        "abs_values = y_over.value_counts(ascending=False).values\n",
        "ax.bar_label(container=ax.containers[0], labels=abs_values)\n",
        "plt.xlabel(\"Classification\")\n",
        "plt.ylabel(\"Count of Transactions\")\n",
        "plt.title(\"Balanced Dataset\")\n",
        "#strategic "
      ]
    },
    {
      "cell_type": "code",
      "execution_count": null,
      "id": "61761102",
      "metadata": {
        "id": "61761102",
        "outputId": "219659d1-cc1b-4343-a5d1-2cd013c33f32"
      },
      "outputs": [
        {
          "data": {
            "text/plain": [
              "0        0\n",
              "1        0\n",
              "2        0\n",
              "3        0\n",
              "4        0\n",
              "        ..\n",
              "16421    1\n",
              "16422    1\n",
              "16423    1\n",
              "16424    1\n",
              "16425    1\n",
              "Name: isFraud, Length: 16426, dtype: int64"
            ]
          },
          "execution_count": 33,
          "metadata": {},
          "output_type": "execute_result"
        }
      ],
      "source": [
        "y_over"
      ]
    },
    {
      "cell_type": "code",
      "execution_count": null,
      "id": "70da4dca",
      "metadata": {
        "id": "70da4dca",
        "outputId": "af6a6a13-9652-44a1-844a-fc3d2b3e17df"
      },
      "outputs": [
        {
          "ename": "NameError",
          "evalue": "name 'plt' is not defined",
          "output_type": "error",
          "traceback": [
            "\u001b[1;31m---------------------------------------------------------------------------\u001b[0m",
            "\u001b[1;31mNameError\u001b[0m                                 Traceback (most recent call last)",
            "\u001b[1;32m~\\AppData\\Local\\Temp/ipykernel_4976/1612217404.py\u001b[0m in \u001b[0;36m<module>\u001b[1;34m\u001b[0m\n\u001b[1;32m----> 1\u001b[1;33m \u001b[0mfig\u001b[0m\u001b[1;33m,\u001b[0m \u001b[0max\u001b[0m \u001b[1;33m=\u001b[0m \u001b[0mplt\u001b[0m\u001b[1;33m.\u001b[0m\u001b[0msubplots\u001b[0m\u001b[1;33m(\u001b[0m\u001b[0mfigsize\u001b[0m\u001b[1;33m=\u001b[0m\u001b[1;33m(\u001b[0m\u001b[1;36m8\u001b[0m\u001b[1;33m,\u001b[0m\u001b[1;36m5\u001b[0m\u001b[1;33m)\u001b[0m\u001b[1;33m)\u001b[0m\u001b[1;33m\u001b[0m\u001b[1;33m\u001b[0m\u001b[0m\n\u001b[0m\u001b[0;32m      2\u001b[0m \u001b[0mcorr\u001b[0m \u001b[1;33m=\u001b[0m \u001b[0mX_over\u001b[0m\u001b[1;33m.\u001b[0m\u001b[0mcorr\u001b[0m\u001b[1;33m(\u001b[0m\u001b[1;33m)\u001b[0m\u001b[1;33m\u001b[0m\u001b[1;33m\u001b[0m\u001b[0m\n\u001b[0;32m      3\u001b[0m \u001b[0msns\u001b[0m\u001b[1;33m.\u001b[0m\u001b[0mheatmap\u001b[0m\u001b[1;33m(\u001b[0m\u001b[0mcorr\u001b[0m\u001b[1;33m,\u001b[0m \u001b[0mcmap\u001b[0m\u001b[1;33m=\u001b[0m\u001b[1;34m\"Blues\"\u001b[0m\u001b[1;33m,\u001b[0m \u001b[0mannot\u001b[0m\u001b[1;33m=\u001b[0m\u001b[1;32mTrue\u001b[0m\u001b[1;33m)\u001b[0m\u001b[1;33m\u001b[0m\u001b[1;33m\u001b[0m\u001b[0m\n\u001b[0;32m      4\u001b[0m \u001b[1;31m#as you can see there is high multicollinearity\u001b[0m\u001b[1;33m\u001b[0m\u001b[1;33m\u001b[0m\u001b[0m\n\u001b[0;32m      5\u001b[0m \u001b[1;31m#heatmap to show multicollinearity of first 30 features in X, python cannot handle displaying over 16k features\u001b[0m\u001b[1;33m\u001b[0m\u001b[1;33m\u001b[0m\u001b[0m\n",
            "\u001b[1;31mNameError\u001b[0m: name 'plt' is not defined"
          ]
        }
      ],
      "source": [
        "fig, ax = plt.subplots(figsize=(8,5)) \n",
        "corr = X_over.corr()\n",
        "sns.heatmap(corr, cmap=\"Blues\", annot=True)\n",
        "#as you can see there is high multicollinearity\n",
        "#heatmap to show multicollinearity of first 30 features in X, python cannot handle displaying over 16k features"
      ]
    },
    {
      "cell_type": "code",
      "execution_count": null,
      "id": "15dbc91f",
      "metadata": {
        "id": "15dbc91f",
        "outputId": "73b2d907-4b32-4f0e-ef88-94a79b753e79"
      },
      "outputs": [
        {
          "data": {
            "text/html": [
              "<style>#sk-container-id-1 {color: black;background-color: white;}#sk-container-id-1 pre{padding: 0;}#sk-container-id-1 div.sk-toggleable {background-color: white;}#sk-container-id-1 label.sk-toggleable__label {cursor: pointer;display: block;width: 100%;margin-bottom: 0;padding: 0.3em;box-sizing: border-box;text-align: center;}#sk-container-id-1 label.sk-toggleable__label-arrow:before {content: \"▸\";float: left;margin-right: 0.25em;color: #696969;}#sk-container-id-1 label.sk-toggleable__label-arrow:hover:before {color: black;}#sk-container-id-1 div.sk-estimator:hover label.sk-toggleable__label-arrow:before {color: black;}#sk-container-id-1 div.sk-toggleable__content {max-height: 0;max-width: 0;overflow: hidden;text-align: left;background-color: #f0f8ff;}#sk-container-id-1 div.sk-toggleable__content pre {margin: 0.2em;color: black;border-radius: 0.25em;background-color: #f0f8ff;}#sk-container-id-1 input.sk-toggleable__control:checked~div.sk-toggleable__content {max-height: 200px;max-width: 100%;overflow: auto;}#sk-container-id-1 input.sk-toggleable__control:checked~label.sk-toggleable__label-arrow:before {content: \"▾\";}#sk-container-id-1 div.sk-estimator input.sk-toggleable__control:checked~label.sk-toggleable__label {background-color: #d4ebff;}#sk-container-id-1 div.sk-label input.sk-toggleable__control:checked~label.sk-toggleable__label {background-color: #d4ebff;}#sk-container-id-1 input.sk-hidden--visually {border: 0;clip: rect(1px 1px 1px 1px);clip: rect(1px, 1px, 1px, 1px);height: 1px;margin: -1px;overflow: hidden;padding: 0;position: absolute;width: 1px;}#sk-container-id-1 div.sk-estimator {font-family: monospace;background-color: #f0f8ff;border: 1px dotted black;border-radius: 0.25em;box-sizing: border-box;margin-bottom: 0.5em;}#sk-container-id-1 div.sk-estimator:hover {background-color: #d4ebff;}#sk-container-id-1 div.sk-parallel-item::after {content: \"\";width: 100%;border-bottom: 1px solid gray;flex-grow: 1;}#sk-container-id-1 div.sk-label:hover label.sk-toggleable__label {background-color: #d4ebff;}#sk-container-id-1 div.sk-serial::before {content: \"\";position: absolute;border-left: 1px solid gray;box-sizing: border-box;top: 0;bottom: 0;left: 50%;z-index: 0;}#sk-container-id-1 div.sk-serial {display: flex;flex-direction: column;align-items: center;background-color: white;padding-right: 0.2em;padding-left: 0.2em;position: relative;}#sk-container-id-1 div.sk-item {position: relative;z-index: 1;}#sk-container-id-1 div.sk-parallel {display: flex;align-items: stretch;justify-content: center;background-color: white;position: relative;}#sk-container-id-1 div.sk-item::before, #sk-container-id-1 div.sk-parallel-item::before {content: \"\";position: absolute;border-left: 1px solid gray;box-sizing: border-box;top: 0;bottom: 0;left: 50%;z-index: -1;}#sk-container-id-1 div.sk-parallel-item {display: flex;flex-direction: column;z-index: 1;position: relative;background-color: white;}#sk-container-id-1 div.sk-parallel-item:first-child::after {align-self: flex-end;width: 50%;}#sk-container-id-1 div.sk-parallel-item:last-child::after {align-self: flex-start;width: 50%;}#sk-container-id-1 div.sk-parallel-item:only-child::after {width: 0;}#sk-container-id-1 div.sk-dashed-wrapped {border: 1px dashed gray;margin: 0 0.4em 0.5em 0.4em;box-sizing: border-box;padding-bottom: 0.4em;background-color: white;}#sk-container-id-1 div.sk-label label {font-family: monospace;font-weight: bold;display: inline-block;line-height: 1.2em;}#sk-container-id-1 div.sk-label-container {text-align: center;}#sk-container-id-1 div.sk-container {/* jupyter's `normalize.less` sets `[hidden] { display: none; }` but bootstrap.min.css set `[hidden] { display: none !important; }` so we also need the `!important` here to be able to override the default hidden behavior on the sphinx rendered scikit-learn.org. See: https://github.com/scikit-learn/scikit-learn/issues/21755 */display: inline-block !important;position: relative;}#sk-container-id-1 div.sk-text-repr-fallback {display: none;}</style><div id=\"sk-container-id-1\" class=\"sk-top-container\"><div class=\"sk-text-repr-fallback\"><pre>RandomForestClassifier(random_state=42)</pre><b>In a Jupyter environment, please rerun this cell to show the HTML representation or trust the notebook. <br />On GitHub, the HTML representation is unable to render, please try loading this page with nbviewer.org.</b></div><div class=\"sk-container\" hidden><div class=\"sk-item\"><div class=\"sk-estimator sk-toggleable\"><input class=\"sk-toggleable__control sk-hidden--visually\" id=\"sk-estimator-id-1\" type=\"checkbox\" checked><label for=\"sk-estimator-id-1\" class=\"sk-toggleable__label sk-toggleable__label-arrow\">RandomForestClassifier</label><div class=\"sk-toggleable__content\"><pre>RandomForestClassifier(random_state=42)</pre></div></div></div></div></div>"
            ],
            "text/plain": [
              "RandomForestClassifier(random_state=42)"
            ]
          },
          "execution_count": 35,
          "metadata": {},
          "output_type": "execute_result"
        }
      ],
      "source": [
        "# create the classifier with n_estimators = 100\n",
        "\n",
        "clf = RandomForestClassifier(n_estimators=100, random_state=42)\n",
        "\n",
        "# fit the model to the training set\n",
        "\n",
        "clf.fit(X_over, y_over)"
      ]
    },
    {
      "cell_type": "code",
      "execution_count": null,
      "id": "7f49e354",
      "metadata": {
        "id": "7f49e354",
        "outputId": "97f64616-86c1-4e82-ec6b-f73c1c8cf543"
      },
      "outputs": [
        {
          "data": {
            "text/plain": [
              "oldbalanceOrg    0.34\n",
              "amount           0.19\n",
              "newbalanceOrig   0.19\n",
              "type             0.17\n",
              "newbalanceDest   0.07\n",
              "oldbalanceDest   0.05\n",
              "dtype: float64"
            ]
          },
          "execution_count": 36,
          "metadata": {},
          "output_type": "execute_result"
        }
      ],
      "source": [
        "# view the feature scores\n",
        "\n",
        "feature_scores = pd.Series(clf.feature_importances_, index=X_over.columns).sort_values(ascending=False)\n",
        "\n",
        "feature_scores"
      ]
    },
    {
      "cell_type": "code",
      "execution_count": null,
      "id": "6fb2c360",
      "metadata": {
        "id": "6fb2c360",
        "outputId": "d6c2fd5d-9f69-4e1c-9ce5-4b6877d4dc39"
      },
      "outputs": [
        {
          "data": {
            "image/png": "[encoded data removed]",
            "text/plain": [
              "<Figure size 360x360 with 1 Axes>"
            ]
          },
          "metadata": {
            "needs_background": "light"
          },
          "output_type": "display_data"
        }
      ],
      "source": [
        "# Creating a seaborn bar plot\n",
        "\n",
        "f, ax = plt.subplots(figsize=(5, 5))\n",
        "ax = sns.barplot(x=feature_scores, y=feature_scores.index)\n",
        "ax.set_title(\"Visualize feature scores of the features\")\n",
        "ax.set_yticklabels(feature_scores.index)\n",
        "ax.set_xlabel(\"Feature importance score\")\n",
        "ax.set_ylabel(\"Features\")\n",
        "plt.show()"
      ]
    },
    {
      "cell_type": "code",
      "execution_count": null,
      "id": "cd5f932d",
      "metadata": {
        "id": "cd5f932d"
      },
      "outputs": [],
      "source": [
        "from sklearn.model_selection import train_test_split\n",
        "X_train, X_test, y_train, y_test = train_test_split(X_over, y_over,test_size=0.4,random_state=42,shuffle=True)"
      ]
    },
    {
      "cell_type": "code",
      "execution_count": null,
      "id": "11b9d529",
      "metadata": {
        "id": "11b9d529",
        "outputId": "5253e18d-f2f9-4c20-ce14-63fad2b4b1c7"
      },
      "outputs": [
        {
          "data": {
            "text/plain": [
              "9855"
            ]
          },
          "execution_count": 39,
          "metadata": {},
          "output_type": "execute_result"
        }
      ],
      "source": [
        "len(y_train)"
      ]
    },
    {
      "cell_type": "code",
      "execution_count": null,
      "id": "49fc300d",
      "metadata": {
        "id": "49fc300d"
      },
      "outputs": [],
      "source": [
        "df2 = pd.concat([X_train, pd.DataFrame(y_train)], axis=1)"
      ]
    },
    {
      "cell_type": "code",
      "execution_count": null,
      "id": "b9ebea3d",
      "metadata": {
        "id": "b9ebea3d",
        "outputId": "6fd58d95-5a03-418c-cadd-6ebb5b858ba7"
      },
      "outputs": [
        {
          "data": {
            "text/html": [
              "<div>\n",
              "<style scoped>\n",
              "    .dataframe tbody tr th:only-of-type {\n",
              "        vertical-align: middle;\n",
              "    }\n",
              "\n",
              "    .dataframe tbody tr th {\n",
              "        vertical-align: top;\n",
              "    }\n",
              "\n",
              "    .dataframe thead th {\n",
              "        text-align: right;\n",
              "    }\n",
              "</style>\n",
              "<table border=\"1\" class=\"dataframe\">\n",
              "  <thead>\n",
              "    <tr style=\"text-align: right;\">\n",
              "      <th></th>\n",
              "      <th>type</th>\n",
              "      <th>amount</th>\n",
              "      <th>oldbalanceOrg</th>\n",
              "      <th>newbalanceOrig</th>\n",
              "      <th>oldbalanceDest</th>\n",
              "      <th>newbalanceDest</th>\n",
              "      <th>isFraud</th>\n",
              "    </tr>\n",
              "  </thead>\n",
              "  <tbody>\n",
              "    <tr>\n",
              "      <th>6499</th>\n",
              "      <td>-1.27</td>\n",
              "      <td>0.24</td>\n",
              "      <td>0.04</td>\n",
              "      <td>0.14</td>\n",
              "      <td>0.08</td>\n",
              "      <td>-0.05</td>\n",
              "      <td>0</td>\n",
              "    </tr>\n",
              "    <tr>\n",
              "      <th>7914</th>\n",
              "      <td>-0.53</td>\n",
              "      <td>0.17</td>\n",
              "      <td>-0.25</td>\n",
              "      <td>-0.29</td>\n",
              "      <td>-0.24</td>\n",
              "      <td>-0.18</td>\n",
              "      <td>0</td>\n",
              "    </tr>\n",
              "    <tr>\n",
              "      <th>9214</th>\n",
              "      <td>-0.53</td>\n",
              "      <td>0.31</td>\n",
              "      <td>-0.16</td>\n",
              "      <td>-0.29</td>\n",
              "      <td>-0.31</td>\n",
              "      <td>-0.23</td>\n",
              "      <td>1</td>\n",
              "    </tr>\n",
              "    <tr>\n",
              "      <th>7964</th>\n",
              "      <td>-0.53</td>\n",
              "      <td>-0.09</td>\n",
              "      <td>-0.29</td>\n",
              "      <td>-0.29</td>\n",
              "      <td>-0.31</td>\n",
              "      <td>-0.29</td>\n",
              "      <td>0</td>\n",
              "    </tr>\n",
              "    <tr>\n",
              "      <th>16366</th>\n",
              "      <td>1.69</td>\n",
              "      <td>-0.01</td>\n",
              "      <td>-0.23</td>\n",
              "      <td>-0.29</td>\n",
              "      <td>-0.32</td>\n",
              "      <td>-0.33</td>\n",
              "      <td>1</td>\n",
              "    </tr>\n",
              "    <tr>\n",
              "      <th>...</th>\n",
              "      <td>...</td>\n",
              "      <td>...</td>\n",
              "      <td>...</td>\n",
              "      <td>...</td>\n",
              "      <td>...</td>\n",
              "      <td>...</td>\n",
              "      <td>...</td>\n",
              "    </tr>\n",
              "    <tr>\n",
              "      <th>11284</th>\n",
              "      <td>1.69</td>\n",
              "      <td>-0.03</td>\n",
              "      <td>-0.23</td>\n",
              "      <td>-0.29</td>\n",
              "      <td>-0.32</td>\n",
              "      <td>-0.33</td>\n",
              "      <td>1</td>\n",
              "    </tr>\n",
              "    <tr>\n",
              "      <th>11964</th>\n",
              "      <td>1.69</td>\n",
              "      <td>-0.02</td>\n",
              "      <td>-0.23</td>\n",
              "      <td>-0.29</td>\n",
              "      <td>-0.32</td>\n",
              "      <td>-0.33</td>\n",
              "      <td>1</td>\n",
              "    </tr>\n",
              "    <tr>\n",
              "      <th>5390</th>\n",
              "      <td>0.95</td>\n",
              "      <td>-0.29</td>\n",
              "      <td>-0.29</td>\n",
              "      <td>-0.29</td>\n",
              "      <td>-0.32</td>\n",
              "      <td>-0.33</td>\n",
              "      <td>0</td>\n",
              "    </tr>\n",
              "    <tr>\n",
              "      <th>860</th>\n",
              "      <td>-0.53</td>\n",
              "      <td>-0.14</td>\n",
              "      <td>-0.29</td>\n",
              "      <td>-0.29</td>\n",
              "      <td>0.16</td>\n",
              "      <td>0.14</td>\n",
              "      <td>0</td>\n",
              "    </tr>\n",
              "    <tr>\n",
              "      <th>15795</th>\n",
              "      <td>-0.53</td>\n",
              "      <td>0.08</td>\n",
              "      <td>-0.21</td>\n",
              "      <td>-0.29</td>\n",
              "      <td>-0.31</td>\n",
              "      <td>-0.26</td>\n",
              "      <td>1</td>\n",
              "    </tr>\n",
              "  </tbody>\n",
              "</table>\n",
              "<p>9855 rows × 7 columns</p>\n",
              "</div>"
            ],
            "text/plain": [
              "       type  amount  oldbalanceOrg  newbalanceOrig  oldbalanceDest  \\\n",
              "6499  -1.27    0.24           0.04            0.14            0.08   \n",
              "7914  -0.53    0.17          -0.25           -0.29           -0.24   \n",
              "9214  -0.53    0.31          -0.16           -0.29           -0.31   \n",
              "7964  -0.53   -0.09          -0.29           -0.29           -0.31   \n",
              "16366  1.69   -0.01          -0.23           -0.29           -0.32   \n",
              "...     ...     ...            ...             ...             ...   \n",
              "11284  1.69   -0.03          -0.23           -0.29           -0.32   \n",
              "11964  1.69   -0.02          -0.23           -0.29           -0.32   \n",
              "5390   0.95   -0.29          -0.29           -0.29           -0.32   \n",
              "860   -0.53   -0.14          -0.29           -0.29            0.16   \n",
              "15795 -0.53    0.08          -0.21           -0.29           -0.31   \n",
              "\n",
              "       newbalanceDest  isFraud  \n",
              "6499            -0.05        0  \n",
              "7914            -0.18        0  \n",
              "9214            -0.23        1  \n",
              "7964            -0.29        0  \n",
              "16366           -0.33        1  \n",
              "...               ...      ...  \n",
              "11284           -0.33        1  \n",
              "11964           -0.33        1  \n",
              "5390            -0.33        0  \n",
              "860              0.14        0  \n",
              "15795           -0.26        1  \n",
              "\n",
              "[9855 rows x 7 columns]"
            ]
          },
          "execution_count": 41,
          "metadata": {},
          "output_type": "execute_result"
        }
      ],
      "source": [
        "df2"
      ]
    },
    {
      "cell_type": "code",
      "execution_count": null,
      "id": "5c386ef6",
      "metadata": {
        "id": "5c386ef6",
        "outputId": "8abc154c-b6a8-441d-a43d-da91754c7c6b"
      },
      "outputs": [
        {
          "name": "stdout",
          "output_type": "stream",
          "text": [
            "[0.67129292 0.16371164 0.09879879 0.06172134 0.00366423 0.00081107]\n"
          ]
        },
        {
          "data": {
            "text/plain": [
              "array([0.67129292, 0.83500456, 0.93380335, 0.99552469, 0.99918893,\n",
              "       1.        ])"
            ]
          },
          "execution_count": 42,
          "metadata": {},
          "output_type": "execute_result"
        }
      ],
      "source": [
        "from sklearn.decomposition import PCA #import PCA\n",
        "pca = PCA() \n",
        "x_pca = pca.fit_transform(X_train) #PCA on Train dataset\n",
        "X_test_pca = pca.transform(X_test) #PCA on test dataset\n",
        "pca.explained_variance_ratio_ #PCA ratio\n",
        "tot_var = np.array(pca.explained_variance_ratio_) #calculate all features and their variance ratio\n",
        "print(tot_var)\n",
        "tot_var.cumsum()"
      ]
    },
    {
      "cell_type": "code",
      "execution_count": null,
      "id": "4afa9419",
      "metadata": {
        "id": "4afa9419",
        "outputId": "3e771a11-9ea5-47cc-abd5-b5a834ec7432"
      },
      "outputs": [
        {
          "data": {
            "text/html": [
              "<div>\n",
              "<style scoped>\n",
              "    .dataframe tbody tr th:only-of-type {\n",
              "        vertical-align: middle;\n",
              "    }\n",
              "\n",
              "    .dataframe tbody tr th {\n",
              "        vertical-align: top;\n",
              "    }\n",
              "\n",
              "    .dataframe thead th {\n",
              "        text-align: right;\n",
              "    }\n",
              "</style>\n",
              "<table border=\"1\" class=\"dataframe\">\n",
              "  <thead>\n",
              "    <tr style=\"text-align: right;\">\n",
              "      <th></th>\n",
              "      <th>type</th>\n",
              "      <th>amount</th>\n",
              "      <th>oldbalanceOrg</th>\n",
              "      <th>newbalanceOrig</th>\n",
              "      <th>oldbalanceDest</th>\n",
              "      <th>newbalanceDest</th>\n",
              "      <th>isFraud</th>\n",
              "    </tr>\n",
              "  </thead>\n",
              "  <tbody>\n",
              "    <tr>\n",
              "      <th>9828</th>\n",
              "      <td>-0.53</td>\n",
              "      <td>-0.04</td>\n",
              "      <td>-0.23</td>\n",
              "      <td>-0.29</td>\n",
              "      <td>-0.23</td>\n",
              "      <td>-0.20</td>\n",
              "      <td>1</td>\n",
              "    </tr>\n",
              "    <tr>\n",
              "      <th>54</th>\n",
              "      <td>-1.27</td>\n",
              "      <td>-0.09</td>\n",
              "      <td>0.03</td>\n",
              "      <td>0.07</td>\n",
              "      <td>0.08</td>\n",
              "      <td>0.01</td>\n",
              "      <td>0</td>\n",
              "    </tr>\n",
              "    <tr>\n",
              "      <th>2735</th>\n",
              "      <td>0.95</td>\n",
              "      <td>-0.25</td>\n",
              "      <td>-0.27</td>\n",
              "      <td>-0.28</td>\n",
              "      <td>-0.32</td>\n",
              "      <td>-0.33</td>\n",
              "      <td>0</td>\n",
              "    </tr>\n",
              "    <tr>\n",
              "      <th>7956</th>\n",
              "      <td>-0.53</td>\n",
              "      <td>0.76</td>\n",
              "      <td>-0.29</td>\n",
              "      <td>-0.29</td>\n",
              "      <td>-0.10</td>\n",
              "      <td>0.05</td>\n",
              "      <td>0</td>\n",
              "    </tr>\n",
              "    <tr>\n",
              "      <th>13216</th>\n",
              "      <td>1.69</td>\n",
              "      <td>3.47</td>\n",
              "      <td>0.50</td>\n",
              "      <td>-0.29</td>\n",
              "      <td>-0.32</td>\n",
              "      <td>-0.33</td>\n",
              "      <td>1</td>\n",
              "    </tr>\n",
              "    <tr>\n",
              "      <th>...</th>\n",
              "      <td>...</td>\n",
              "      <td>...</td>\n",
              "      <td>...</td>\n",
              "      <td>...</td>\n",
              "      <td>...</td>\n",
              "      <td>...</td>\n",
              "      <td>...</td>\n",
              "    </tr>\n",
              "    <tr>\n",
              "      <th>12875</th>\n",
              "      <td>-0.53</td>\n",
              "      <td>1.00</td>\n",
              "      <td>-0.02</td>\n",
              "      <td>-0.29</td>\n",
              "      <td>-0.32</td>\n",
              "      <td>-0.12</td>\n",
              "      <td>1</td>\n",
              "    </tr>\n",
              "    <tr>\n",
              "      <th>5661</th>\n",
              "      <td>0.95</td>\n",
              "      <td>-0.26</td>\n",
              "      <td>-0.19</td>\n",
              "      <td>-0.20</td>\n",
              "      <td>-0.32</td>\n",
              "      <td>-0.33</td>\n",
              "      <td>0</td>\n",
              "    </tr>\n",
              "    <tr>\n",
              "      <th>3227</th>\n",
              "      <td>0.95</td>\n",
              "      <td>-0.30</td>\n",
              "      <td>-0.27</td>\n",
              "      <td>-0.28</td>\n",
              "      <td>-0.32</td>\n",
              "      <td>-0.33</td>\n",
              "      <td>0</td>\n",
              "    </tr>\n",
              "    <tr>\n",
              "      <th>4206</th>\n",
              "      <td>-0.53</td>\n",
              "      <td>0.25</td>\n",
              "      <td>-0.27</td>\n",
              "      <td>-0.29</td>\n",
              "      <td>0.18</td>\n",
              "      <td>0.35</td>\n",
              "      <td>0</td>\n",
              "    </tr>\n",
              "    <tr>\n",
              "      <th>945</th>\n",
              "      <td>-0.53</td>\n",
              "      <td>-0.20</td>\n",
              "      <td>-0.29</td>\n",
              "      <td>-0.29</td>\n",
              "      <td>-0.11</td>\n",
              "      <td>-0.12</td>\n",
              "      <td>0</td>\n",
              "    </tr>\n",
              "  </tbody>\n",
              "</table>\n",
              "<p>2000 rows × 7 columns</p>\n",
              "</div>"
            ],
            "text/plain": [
              "       type  amount  oldbalanceOrg  newbalanceOrig  oldbalanceDest  \\\n",
              "9828  -0.53   -0.04          -0.23           -0.29           -0.23   \n",
              "54    -1.27   -0.09           0.03            0.07            0.08   \n",
              "2735   0.95   -0.25          -0.27           -0.28           -0.32   \n",
              "7956  -0.53    0.76          -0.29           -0.29           -0.10   \n",
              "13216  1.69    3.47           0.50           -0.29           -0.32   \n",
              "...     ...     ...            ...             ...             ...   \n",
              "12875 -0.53    1.00          -0.02           -0.29           -0.32   \n",
              "5661   0.95   -0.26          -0.19           -0.20           -0.32   \n",
              "3227   0.95   -0.30          -0.27           -0.28           -0.32   \n",
              "4206  -0.53    0.25          -0.27           -0.29            0.18   \n",
              "945   -0.53   -0.20          -0.29           -0.29           -0.11   \n",
              "\n",
              "       newbalanceDest  isFraud  \n",
              "9828            -0.20        1  \n",
              "54               0.01        0  \n",
              "2735            -0.33        0  \n",
              "7956             0.05        0  \n",
              "13216           -0.33        1  \n",
              "...               ...      ...  \n",
              "12875           -0.12        1  \n",
              "5661            -0.33        0  \n",
              "3227            -0.33        0  \n",
              "4206             0.35        0  \n",
              "945             -0.12        0  \n",
              "\n",
              "[2000 rows x 7 columns]"
            ]
          },
          "execution_count": 43,
          "metadata": {},
          "output_type": "execute_result"
        }
      ],
      "source": [
        "df2.sample(2000)"
      ]
    },
    {
      "cell_type": "code",
      "execution_count": null,
      "id": "9e63d028",
      "metadata": {
        "id": "9e63d028",
        "outputId": "52b8988d-468f-47b2-c080-99b656cc97a2"
      },
      "outputs": [
        {
          "data": {
            "image/png": "[encoded data removed]",
            "text/plain": [
              "<Figure size 404.125x360 with 1 Axes>"
            ]
          },
          "metadata": {
            "needs_background": "light"
          },
          "output_type": "display_data"
        },
        {
          "data": {
            "image/png": "[encoded data removed]",
            "text/plain": [
              "<Figure size 404.125x360 with 1 Axes>"
            ]
          },
          "metadata": {
            "needs_background": "light"
          },
          "output_type": "display_data"
        }
      ],
      "source": [
        "ax1 = sns.lmplot(x = \"oldbalanceOrg\", y = \"newbalanceOrig\", hue = \"isFraud\",data=df2)\n",
        "ax2 = sns.lmplot(x = \"oldbalanceOrg\", y = \"amount\", hue = \"isFraud\",data=df2)"
      ]
    },
    {
      "cell_type": "code",
      "execution_count": null,
      "id": "2c68b502",
      "metadata": {
        "scrolled": false,
        "id": "2c68b502",
        "outputId": "66df05e7-374c-471b-c1c5-017b04a9dfdd"
      },
      "outputs": [
        {
          "name": "stdout",
          "output_type": "stream",
          "text": [
            "Fitting 5 folds for each of 10 candidates, totalling 50 fits\n",
            "[CV 1/5] END .....................n_neighbors=1;, score=0.957 total time=   0.0s\n",
            "[CV 2/5] END .....................n_neighbors=1;, score=0.956 total time=   0.0s\n",
            "[CV 3/5] END .....................n_neighbors=1;, score=0.954 total time=   0.0s\n",
            "[CV 4/5] END .....................n_neighbors=1;, score=0.963 total time=   0.0s\n",
            "[CV 5/5] END .....................n_neighbors=1;, score=0.962 total time=   0.0s\n",
            "[CV 1/5] END .....................n_neighbors=7;, score=0.946 total time=   0.0s\n",
            "[CV 2/5] END .....................n_neighbors=7;, score=0.949 total time=   0.0s\n",
            "[CV 3/5] END .....................n_neighbors=7;, score=0.946 total time=   0.0s\n",
            "[CV 4/5] END .....................n_neighbors=7;, score=0.952 total time=   0.0s\n",
            "[CV 5/5] END .....................n_neighbors=7;, score=0.948 total time=   0.0s\n",
            "[CV 1/5] END ....................n_neighbors=18;, score=0.931 total time=   0.0s\n",
            "[CV 2/5] END ....................n_neighbors=18;, score=0.932 total time=   0.0s\n",
            "[CV 3/5] END ....................n_neighbors=18;, score=0.930 total time=   0.0s\n",
            "[CV 4/5] END ....................n_neighbors=18;, score=0.941 total time=   0.0s\n",
            "[CV 5/5] END ....................n_neighbors=18;, score=0.931 total time=   0.0s\n",
            "[CV 1/5] END ....................n_neighbors=10;, score=0.943 total time=   0.0s\n",
            "[CV 2/5] END ....................n_neighbors=10;, score=0.943 total time=   0.0s\n",
            "[CV 3/5] END ....................n_neighbors=10;, score=0.945 total time=   0.0s\n",
            "[CV 4/5] END ....................n_neighbors=10;, score=0.951 total time=   0.0s\n",
            "[CV 5/5] END ....................n_neighbors=10;, score=0.942 total time=   0.0s\n",
            "[CV 1/5] END .....................n_neighbors=3;, score=0.954 total time=   0.0s\n",
            "[CV 2/5] END .....................n_neighbors=3;, score=0.955 total time=   0.0s\n",
            "[CV 3/5] END .....................n_neighbors=3;, score=0.956 total time=   0.0s\n",
            "[CV 4/5] END .....................n_neighbors=3;, score=0.960 total time=   0.0s\n",
            "[CV 5/5] END .....................n_neighbors=3;, score=0.958 total time=   0.0s\n",
            "[CV 1/5] END ....................n_neighbors=14;, score=0.936 total time=   0.0s\n",
            "[CV 2/5] END ....................n_neighbors=14;, score=0.938 total time=   0.1s\n",
            "[CV 3/5] END ....................n_neighbors=14;, score=0.932 total time=   0.0s\n",
            "[CV 4/5] END ....................n_neighbors=14;, score=0.945 total time=   0.0s\n",
            "[CV 5/5] END ....................n_neighbors=14;, score=0.939 total time=   0.0s\n",
            "[CV 1/5] END .....................n_neighbors=8;, score=0.945 total time=   0.0s\n",
            "[CV 2/5] END .....................n_neighbors=8;, score=0.947 total time=   0.0s\n",
            "[CV 3/5] END .....................n_neighbors=8;, score=0.946 total time=   0.0s\n",
            "[CV 4/5] END .....................n_neighbors=8;, score=0.950 total time=   0.0s\n",
            "[CV 5/5] END .....................n_neighbors=8;, score=0.945 total time=   0.0s\n",
            "[CV 1/5] END .....................n_neighbors=4;, score=0.949 total time=   0.0s\n",
            "[CV 2/5] END .....................n_neighbors=4;, score=0.953 total time=   0.0s\n",
            "[CV 3/5] END .....................n_neighbors=4;, score=0.957 total time=   0.0s\n",
            "[CV 4/5] END .....................n_neighbors=4;, score=0.959 total time=   0.0s\n",
            "[CV 5/5] END .....................n_neighbors=4;, score=0.956 total time=   0.0s\n",
            "[CV 1/5] END ....................n_neighbors=17;, score=0.931 total time=   0.0s\n",
            "[CV 2/5] END ....................n_neighbors=17;, score=0.937 total time=   0.0s\n",
            "[CV 3/5] END ....................n_neighbors=17;, score=0.930 total time=   0.0s\n",
            "[CV 4/5] END ....................n_neighbors=17;, score=0.940 total time=   0.0s\n",
            "[CV 5/5] END ....................n_neighbors=17;, score=0.935 total time=   0.0s\n",
            "[CV 1/5] END ....................n_neighbors=11;, score=0.939 total time=   0.0s\n",
            "[CV 2/5] END ....................n_neighbors=11;, score=0.942 total time=   0.0s\n",
            "[CV 3/5] END ....................n_neighbors=11;, score=0.938 total time=   0.0s\n",
            "[CV 4/5] END ....................n_neighbors=11;, score=0.948 total time=   0.0s\n",
            "[CV 5/5] END ....................n_neighbors=11;, score=0.945 total time=   0.0s\n"
          ]
        },
        {
          "data": {
            "text/html": [
              "<style>#sk-container-id-2 {color: black;background-color: white;}#sk-container-id-2 pre{padding: 0;}#sk-container-id-2 div.sk-toggleable {background-color: white;}#sk-container-id-2 label.sk-toggleable__label {cursor: pointer;display: block;width: 100%;margin-bottom: 0;padding: 0.3em;box-sizing: border-box;text-align: center;}#sk-container-id-2 label.sk-toggleable__label-arrow:before {content: \"▸\";float: left;margin-right: 0.25em;color: #696969;}#sk-container-id-2 label.sk-toggleable__label-arrow:hover:before {color: black;}#sk-container-id-2 div.sk-estimator:hover label.sk-toggleable__label-arrow:before {color: black;}#sk-container-id-2 div.sk-toggleable__content {max-height: 0;max-width: 0;overflow: hidden;text-align: left;background-color: #f0f8ff;}#sk-container-id-2 div.sk-toggleable__content pre {margin: 0.2em;color: black;border-radius: 0.25em;background-color: #f0f8ff;}#sk-container-id-2 input.sk-toggleable__control:checked~div.sk-toggleable__content {max-height: 200px;max-width: 100%;overflow: auto;}#sk-container-id-2 input.sk-toggleable__control:checked~label.sk-toggleable__label-arrow:before {content: \"▾\";}#sk-container-id-2 div.sk-estimator input.sk-toggleable__control:checked~label.sk-toggleable__label {background-color: #d4ebff;}#sk-container-id-2 div.sk-label input.sk-toggleable__control:checked~label.sk-toggleable__label {background-color: #d4ebff;}#sk-container-id-2 input.sk-hidden--visually {border: 0;clip: rect(1px 1px 1px 1px);clip: rect(1px, 1px, 1px, 1px);height: 1px;margin: -1px;overflow: hidden;padding: 0;position: absolute;width: 1px;}#sk-container-id-2 div.sk-estimator {font-family: monospace;background-color: #f0f8ff;border: 1px dotted black;border-radius: 0.25em;box-sizing: border-box;margin-bottom: 0.5em;}#sk-container-id-2 div.sk-estimator:hover {background-color: #d4ebff;}#sk-container-id-2 div.sk-parallel-item::after {content: \"\";width: 100%;border-bottom: 1px solid gray;flex-grow: 1;}#sk-container-id-2 div.sk-label:hover label.sk-toggleable__label {background-color: #d4ebff;}#sk-container-id-2 div.sk-serial::before {content: \"\";position: absolute;border-left: 1px solid gray;box-sizing: border-box;top: 0;bottom: 0;left: 50%;z-index: 0;}#sk-container-id-2 div.sk-serial {display: flex;flex-direction: column;align-items: center;background-color: white;padding-right: 0.2em;padding-left: 0.2em;position: relative;}#sk-container-id-2 div.sk-item {position: relative;z-index: 1;}#sk-container-id-2 div.sk-parallel {display: flex;align-items: stretch;justify-content: center;background-color: white;position: relative;}#sk-container-id-2 div.sk-item::before, #sk-container-id-2 div.sk-parallel-item::before {content: \"\";position: absolute;border-left: 1px solid gray;box-sizing: border-box;top: 0;bottom: 0;left: 50%;z-index: -1;}#sk-container-id-2 div.sk-parallel-item {display: flex;flex-direction: column;z-index: 1;position: relative;background-color: white;}#sk-container-id-2 div.sk-parallel-item:first-child::after {align-self: flex-end;width: 50%;}#sk-container-id-2 div.sk-parallel-item:last-child::after {align-self: flex-start;width: 50%;}#sk-container-id-2 div.sk-parallel-item:only-child::after {width: 0;}#sk-container-id-2 div.sk-dashed-wrapped {border: 1px dashed gray;margin: 0 0.4em 0.5em 0.4em;box-sizing: border-box;padding-bottom: 0.4em;background-color: white;}#sk-container-id-2 div.sk-label label {font-family: monospace;font-weight: bold;display: inline-block;line-height: 1.2em;}#sk-container-id-2 div.sk-label-container {text-align: center;}#sk-container-id-2 div.sk-container {/* jupyter's `normalize.less` sets `[hidden] { display: none; }` but bootstrap.min.css set `[hidden] { display: none !important; }` so we also need the `!important` here to be able to override the default hidden behavior on the sphinx rendered scikit-learn.org. See: https://github.com/scikit-learn/scikit-learn/issues/21755 */display: inline-block !important;position: relative;}#sk-container-id-2 div.sk-text-repr-fallback {display: none;}</style><div id=\"sk-container-id-2\" class=\"sk-top-container\"><div class=\"sk-text-repr-fallback\"><pre>RandomizedSearchCV(estimator=KNeighborsClassifier(),\n",
              "                   param_distributions={&#x27;n_neighbors&#x27;: range(1, 20)},\n",
              "                   verbose=3)</pre><b>In a Jupyter environment, please rerun this cell to show the HTML representation or trust the notebook. <br />On GitHub, the HTML representation is unable to render, please try loading this page with nbviewer.org.</b></div><div class=\"sk-container\" hidden><div class=\"sk-item sk-dashed-wrapped\"><div class=\"sk-label-container\"><div class=\"sk-label sk-toggleable\"><input class=\"sk-toggleable__control sk-hidden--visually\" id=\"sk-estimator-id-2\" type=\"checkbox\" ><label for=\"sk-estimator-id-2\" class=\"sk-toggleable__label sk-toggleable__label-arrow\">RandomizedSearchCV</label><div class=\"sk-toggleable__content\"><pre>RandomizedSearchCV(estimator=KNeighborsClassifier(),\n",
              "                   param_distributions={&#x27;n_neighbors&#x27;: range(1, 20)},\n",
              "                   verbose=3)</pre></div></div></div><div class=\"sk-parallel\"><div class=\"sk-parallel-item\"><div class=\"sk-item\"><div class=\"sk-label-container\"><div class=\"sk-label sk-toggleable\"><input class=\"sk-toggleable__control sk-hidden--visually\" id=\"sk-estimator-id-3\" type=\"checkbox\" ><label for=\"sk-estimator-id-3\" class=\"sk-toggleable__label sk-toggleable__label-arrow\">estimator: KNeighborsClassifier</label><div class=\"sk-toggleable__content\"><pre>KNeighborsClassifier()</pre></div></div></div><div class=\"sk-serial\"><div class=\"sk-item\"><div class=\"sk-estimator sk-toggleable\"><input class=\"sk-toggleable__control sk-hidden--visually\" id=\"sk-estimator-id-4\" type=\"checkbox\" ><label for=\"sk-estimator-id-4\" class=\"sk-toggleable__label sk-toggleable__label-arrow\">KNeighborsClassifier</label><div class=\"sk-toggleable__content\"><pre>KNeighborsClassifier()</pre></div></div></div></div></div></div></div></div></div></div>"
            ],
            "text/plain": [
              "RandomizedSearchCV(estimator=KNeighborsClassifier(),\n",
              "                   param_distributions={'n_neighbors': range(1, 20)},\n",
              "                   verbose=3)"
            ]
          },
          "execution_count": 45,
          "metadata": {},
          "output_type": "execute_result"
        }
      ],
      "source": [
        "### Determining the number of neighbors using RandomizedSearchCV\n",
        "param_grid = {'n_neighbors': range(1,20)}\n",
        "knn = RandomizedSearchCV(KNeighborsClassifier(), param_grid, verbose=3)\n",
        "knn.fit(X_train,y_train)"
      ]
    },
    {
      "cell_type": "code",
      "execution_count": null,
      "id": "caf27b0b",
      "metadata": {
        "id": "caf27b0b",
        "outputId": "54df007c-2f0c-4a3d-bfa0-28fdc0986535"
      },
      "outputs": [
        {
          "data": {
            "text/plain": [
              "{'n_neighbors': 1}"
            ]
          },
          "execution_count": 46,
          "metadata": {},
          "output_type": "execute_result"
        }
      ],
      "source": [
        "knn.best_params_ # best parameter"
      ]
    },
    {
      "cell_type": "code",
      "execution_count": null,
      "id": "915eb89d",
      "metadata": {
        "id": "915eb89d",
        "outputId": "d73d913c-8920-4f22-cb90-cb162f31041e"
      },
      "outputs": [
        {
          "name": "stdout",
          "output_type": "stream",
          "text": [
            "[[3131  177]\n",
            " [ 111 3152]]\n",
            "\n",
            "\n",
            "              precision    recall  f1-score   support\n",
            "\n",
            "           0       0.97      0.95      0.96      3308\n",
            "           1       0.95      0.97      0.96      3263\n",
            "\n",
            "    accuracy                           0.96      6571\n",
            "   macro avg       0.96      0.96      0.96      6571\n",
            "weighted avg       0.96      0.96      0.96      6571\n",
            "\n"
          ]
        }
      ],
      "source": [
        "knn_pred = knn.predict(X_test)\n",
        "print(confusion_matrix(y_test,knn_pred))\n",
        "print('\\n')\n",
        "print(classification_report(y_test,knn_pred))"
      ]
    },
    {
      "cell_type": "code",
      "execution_count": null,
      "id": "7ed99be2",
      "metadata": {
        "id": "7ed99be2",
        "outputId": "848fa65c-089e-4bb0-cdfe-7c02a30eac8c"
      },
      "outputs": [
        {
          "name": "stdout",
          "output_type": "stream",
          "text": [
            "[[3131  177]\n",
            " [ 111 3152]]\n",
            "\n",
            "\n",
            "              precision    recall  f1-score   support\n",
            "\n",
            "           0       0.97      0.95      0.96      3308\n",
            "           1       0.95      0.97      0.96      3263\n",
            "\n",
            "    accuracy                           0.96      6571\n",
            "   macro avg       0.96      0.96      0.96      6571\n",
            "weighted avg       0.96      0.96      0.96      6571\n",
            "\n"
          ]
        }
      ],
      "source": [
        "clf = KNeighborsClassifier(n_neighbors=4)\n",
        "clf.fit(X_train,y_train)\n",
        "clf_pred = clf.predict(X_test)\n",
        "\n",
        "#KNN #SVM Kernel #logistic Regression\n",
        "knn_pred = knn.predict(X_test)\n",
        "\n",
        "print(confusion_matrix(y_test,knn_pred))\n",
        "print('\\n')\n",
        "print(classification_report(y_test,knn_pred))"
      ]
    },
    {
      "cell_type": "code",
      "execution_count": null,
      "id": "9491a8f4",
      "metadata": {
        "id": "9491a8f4",
        "outputId": "f6d78c19-520a-4d7d-895b-2c0828b06513"
      },
      "outputs": [
        {
          "name": "stdout",
          "output_type": "stream",
          "text": [
            "Accuracy: 0.956171\n",
            "Precision: 0.946831\n",
            "Recall: 0.965982\n",
            "F1 score: 0.956311\n"
          ]
        }
      ],
      "source": [
        "from sklearn.metrics import accuracy_score, precision_score, recall_score, f1_score\n",
        "# accuracy: (tp + tn) / (p + n)\n",
        "accuracy = accuracy_score(y_test,knn_pred)\n",
        "print('Accuracy: %f' % accuracy)\n",
        "# precision tp / (tp + fp)\n",
        "precision = precision_score(y_test,knn_pred)\n",
        "print('Precision: %f' % precision)\n",
        "# recall: tp / (tp + fn)\n",
        "recall = recall_score(y_test,knn_pred)\n",
        "print('Recall: %f' % recall)\n",
        "# f1: 2 tp / (2 tp + fp + fn)\n",
        "f1 = f1_score(y_test,knn_pred)\n",
        "print('F1 score: %f' % f1)"
      ]
    },
    {
      "cell_type": "code",
      "execution_count": null,
      "id": "43b59404",
      "metadata": {
        "id": "43b59404",
        "outputId": "5212f32e-c5f7-49a3-9298-947ea23af640"
      },
      "outputs": [
        {
          "data": {
            "text/plain": [
              "0.9561710546339979"
            ]
          },
          "execution_count": 49,
          "metadata": {},
          "output_type": "execute_result"
        }
      ],
      "source": [
        "accuracy_score(y_test,knn_pred)"
      ]
    },
    {
      "cell_type": "code",
      "execution_count": null,
      "id": "2474bfc6",
      "metadata": {
        "id": "2474bfc6",
        "outputId": "4199e4fd-6450-4659-9601-5642626f42cb"
      },
      "outputs": [
        {
          "name": "stdout",
          "output_type": "stream",
          "text": [
            "[[3153  155]\n",
            " [1979 1284]]\n",
            "\n",
            "\n",
            "              precision    recall  f1-score   support\n",
            "\n",
            "           0       0.61      0.95      0.75      3308\n",
            "           1       0.89      0.39      0.55      3263\n",
            "\n",
            "    accuracy                           0.68      6571\n",
            "   macro avg       0.75      0.67      0.65      6571\n",
            "weighted avg       0.75      0.68      0.65      6571\n",
            "\n",
            "[0.95314389 0.39350291]\n"
          ]
        }
      ],
      "source": [
        "gnb = GaussianNB()\n",
        "gnb.fit(X_train,y_train)\n",
        "gnb_pred = gnb.predict(X_test)\n",
        "\n",
        "cm_gnb = confusion_matrix(y_test,gnb_pred)\n",
        "print(cm_gnb)\n",
        "print('\\n')\n",
        "print(classification_report(y_test,gnb_pred))\n",
        "recall = np.diag(cm_gnb) / np.sum(cm_gnb, axis = 1)\n",
        "print(recall)"
      ]
    },
    {
      "cell_type": "code",
      "execution_count": null,
      "id": "069edc7f",
      "metadata": {
        "id": "069edc7f",
        "outputId": "8d487697-c47a-442e-ee09-062a144a7db3"
      },
      "outputs": [
        {
          "name": "stdout",
          "output_type": "stream",
          "text": [
            "Accuracy: 0.675240\n",
            "Precision: 0.892286\n",
            "Recall: 0.393503\n",
            "F1 score: 0.546151\n"
          ]
        }
      ],
      "source": [
        "from sklearn.metrics import accuracy_score, precision_score, recall_score, f1_score\n",
        "# accuracy: (tp + tn) / (p + n)\n",
        "accuracy = accuracy_score(y_test,gnb_pred)\n",
        "print('Accuracy: %f' % accuracy)\n",
        "# precision tp / (tp + fp)\n",
        "precision = precision_score(y_test,gnb_pred)\n",
        "print('Precision: %f' % precision)\n",
        "# recall: tp / (tp + fn)\n",
        "recall = recall_score(y_test,gnb_pred)\n",
        "print('Recall: %f' % recall)\n",
        "# f1: 2 tp / (2 tp + fp + fn)\n",
        "f1 = f1_score(y_test,gnb_pred)\n",
        "print('F1 score: %f' % f1)"
      ]
    },
    {
      "cell_type": "code",
      "execution_count": null,
      "id": "5475a62b",
      "metadata": {
        "id": "5475a62b",
        "outputId": "79a0cbfb-b0b8-450e-8cbc-d1919a255054"
      },
      "outputs": [
        {
          "data": {
            "text/plain": [
              "0.6752396895449704"
            ]
          },
          "execution_count": 51,
          "metadata": {},
          "output_type": "execute_result"
        }
      ],
      "source": [
        "accuracy_score(y_test,gnb_pred)"
      ]
    },
    {
      "cell_type": "code",
      "execution_count": null,
      "id": "bb51aa77",
      "metadata": {
        "id": "bb51aa77",
        "outputId": "5d170742-5cfe-4edd-f192-db5a5df1000a"
      },
      "outputs": [
        {
          "name": "stdout",
          "output_type": "stream",
          "text": [
            "0.3935029114311983\n"
          ]
        }
      ],
      "source": [
        "recall = recall_score(y_test,gnb_pred)\n",
        "print(recall)"
      ]
    },
    {
      "cell_type": "code",
      "execution_count": null,
      "id": "4adc959c",
      "metadata": {
        "id": "4adc959c",
        "outputId": "f7a7fd75-c400-4681-f1e1-05d75e6e7f06"
      },
      "outputs": [
        {
          "name": "stdout",
          "output_type": "stream",
          "text": [
            "[[3272   36]\n",
            " [  14 3249]]\n",
            "\n",
            "\n",
            "              precision    recall  f1-score   support\n",
            "\n",
            "           0       1.00      0.99      0.99      3308\n",
            "           1       0.99      1.00      0.99      3263\n",
            "\n",
            "    accuracy                           0.99      6571\n",
            "   macro avg       0.99      0.99      0.99      6571\n",
            "weighted avg       0.99      0.99      0.99      6571\n",
            "\n"
          ]
        }
      ],
      "source": [
        "dtree = DecisionTreeClassifier(random_state=42)\n",
        "dtree.fit(X_train,y_train)\n",
        "dtree_pred = dtree.predict(X_test)\n",
        "\n",
        "print(confusion_matrix(y_test,dtree_pred))\n",
        "print('\\n')\n",
        "print(classification_report(y_test,dtree_pred))"
      ]
    },
    {
      "cell_type": "code",
      "execution_count": null,
      "id": "2a9db855",
      "metadata": {
        "id": "2a9db855",
        "outputId": "c3d5a508-18c0-43f1-de26-c2a84784a995"
      },
      "outputs": [
        {
          "name": "stdout",
          "output_type": "stream",
          "text": [
            "Accuracy: 0.992391\n",
            "Precision: 0.989041\n",
            "Recall: 0.995709\n",
            "F1 score: 0.992364\n"
          ]
        }
      ],
      "source": [
        "from sklearn.metrics import accuracy_score, precision_score, recall_score, f1_score\n",
        "# accuracy: (tp + tn) / (p + n)\n",
        "accuracy = accuracy_score(y_test,dtree_pred)\n",
        "print('Accuracy: %f' % accuracy)\n",
        "# precision tp / (tp + fp)\n",
        "precision = precision_score(y_test,dtree_pred)\n",
        "print('Precision: %f' % precision)\n",
        "# recall: tp / (tp + fn)\n",
        "recall = recall_score(y_test,dtree_pred)\n",
        "print('Recall: %f' % recall)\n",
        "# f1: 2 tp / (2 tp + fp + fn)\n",
        "f1 = f1_score(y_test,dtree_pred)\n",
        "print('F1 score: %f' % f1)"
      ]
    },
    {
      "cell_type": "code",
      "execution_count": null,
      "id": "0b27b283",
      "metadata": {
        "id": "0b27b283",
        "outputId": "dae2a69a-1675-4790-8db3-308bbbf40af9"
      },
      "outputs": [
        {
          "name": "stdout",
          "output_type": "stream",
          "text": [
            "0.9923908080961802\n"
          ]
        }
      ],
      "source": [
        "print(accuracy_score(y_test,dtree_pred))"
      ]
    },
    {
      "cell_type": "code",
      "execution_count": null,
      "id": "3df60ed4",
      "metadata": {
        "id": "3df60ed4",
        "outputId": "22610505-bd32-4e1c-efae-0173d4287dc3"
      },
      "outputs": [
        {
          "name": "stdout",
          "output_type": "stream",
          "text": [
            "[[3270   38]\n",
            " [  12 3251]]\n",
            "\n",
            "\n",
            "              precision    recall  f1-score   support\n",
            "\n",
            "           0       1.00      0.99      0.99      3308\n",
            "           1       0.99      1.00      0.99      3263\n",
            "\n",
            "    accuracy                           0.99      6571\n",
            "   macro avg       0.99      0.99      0.99      6571\n",
            "weighted avg       0.99      0.99      0.99      6571\n",
            "\n"
          ]
        }
      ],
      "source": [
        "rfc = RandomForestClassifier(n_estimators=200,random_state=42)\n",
        "rfc.fit(X_train,y_train)\n",
        "rfc_pred = rfc.predict(X_test)\n",
        "\n",
        "print(confusion_matrix(y_test,rfc_pred))\n",
        "print('\\n')\n",
        "print(classification_report(y_test,rfc_pred))"
      ]
    },
    {
      "cell_type": "code",
      "execution_count": null,
      "id": "4933caa7",
      "metadata": {
        "id": "4933caa7",
        "outputId": "0a0ba7e8-eaa5-4aec-8c34-32069183c6c5"
      },
      "outputs": [
        {
          "name": "stdout",
          "output_type": "stream",
          "text": [
            "Accuracy: 0.992391\n",
            "Precision: 0.988446\n",
            "Recall: 0.996322\n",
            "F1 score: 0.992369\n"
          ]
        }
      ],
      "source": [
        "from sklearn.metrics import accuracy_score, precision_score, recall_score, f1_score\n",
        "# accuracy: (tp + tn) / (p + n)\n",
        "accuracy = accuracy_score(y_test,rfc_pred)\n",
        "print('Accuracy: %f' % accuracy)\n",
        "# precision tp / (tp + fp)\n",
        "precision = precision_score(y_test,rfc_pred)\n",
        "print('Precision: %f' % precision)\n",
        "# recall: tp / (tp + fn)\n",
        "recall = recall_score(y_test,rfc_pred)\n",
        "print('Recall: %f' % recall)\n",
        "# f1: 2 tp / (2 tp + fp + fn)\n",
        "f1 = f1_score(y_test,rfc_pred)\n",
        "print('F1 score: %f' % f1)"
      ]
    },
    {
      "cell_type": "code",
      "execution_count": null,
      "id": "ecc6b833",
      "metadata": {
        "id": "ecc6b833",
        "outputId": "eb5689e3-d694-40a2-c2dd-fa0a08f52ffb"
      },
      "outputs": [
        {
          "name": "stdout",
          "output_type": "stream",
          "text": [
            "0.9923908080961802\n"
          ]
        }
      ],
      "source": [
        "print(accuracy_score(y_test,rfc_pred))"
      ]
    },
    {
      "cell_type": "markdown",
      "id": "e063c4d5",
      "metadata": {
        "id": "e063c4d5"
      },
      "source": [
        " Luckily, decision trees and boosted trees algorithms are immune to multicollinearity by nature \n",
        " Therefore Random Forest is not affected by multicollinearity that much since it is picking different set of features for different models and of course every model sees a different set of data points."
      ]
    },
    {
      "cell_type": "code",
      "execution_count": null,
      "id": "30a0ee9a",
      "metadata": {
        "id": "30a0ee9a",
        "outputId": "221f97c0-a9b9-4d27-e20d-1d6daf76bb2e"
      },
      "outputs": [
        {
          "name": "stdout",
          "output_type": "stream",
          "text": [
            "[[3278   30]\n",
            " [  10 3253]]\n",
            "\n",
            "\n",
            "              precision    recall  f1-score   support\n",
            "\n",
            "           0       1.00      0.99      0.99      3308\n",
            "           1       0.99      1.00      0.99      3263\n",
            "\n",
            "    accuracy                           0.99      6571\n",
            "   macro avg       0.99      0.99      0.99      6571\n",
            "weighted avg       0.99      0.99      0.99      6571\n",
            "\n"
          ]
        }
      ],
      "source": [
        "bgc = BaggingClassifier(DecisionTreeClassifier(),n_estimators=200)\n",
        "bgc.fit(X_train,y_train)\n",
        "bgc_pred = bgc.predict(X_test)\n",
        "\n",
        "print(confusion_matrix(y_test,bgc_pred))\n",
        "print('\\n')\n",
        "print(classification_report(y_test,bgc_pred))"
      ]
    },
    {
      "cell_type": "code",
      "execution_count": null,
      "id": "2da10ab4",
      "metadata": {
        "id": "2da10ab4",
        "outputId": "0680d16c-27b0-4b92-bd34-6cb2f1c5bfa4"
      },
      "outputs": [
        {
          "name": "stdout",
          "output_type": "stream",
          "text": [
            "Accuracy: 0.993913\n",
            "Precision: 0.990862\n",
            "Recall: 0.996935\n",
            "F1 score: 0.993889\n"
          ]
        }
      ],
      "source": [
        "from sklearn.metrics import accuracy_score, precision_score, recall_score, f1_score\n",
        "# accuracy: (tp + tn) / (p + n)\n",
        "accuracy = accuracy_score(y_test,bgc_pred)\n",
        "print('Accuracy: %f' % accuracy)\n",
        "# precision tp / (tp + fp)\n",
        "precision = precision_score(y_test,bgc_pred)\n",
        "print('Precision: %f' % precision)\n",
        "# recall: tp / (tp + fn)\n",
        "recall = recall_score(y_test,bgc_pred)\n",
        "print('Recall: %f' % recall)\n",
        "# f1: 2 tp / (2 tp + fp + fn)\n",
        "f1 = f1_score(y_test,bgc_pred)\n",
        "print('F1 score: %f' % f1)"
      ]
    },
    {
      "cell_type": "code",
      "execution_count": null,
      "id": "faa0f2ba",
      "metadata": {
        "scrolled": false,
        "id": "faa0f2ba"
      },
      "outputs": [],
      "source": [
        "#from sklearn.model_selection import GridSearchCV\n",
        "#from sklearn.svm import SVC\n",
        "#param_grid = { 'C':[0.1,1,100,1000],'kernel':['linear']}\n",
        "#grid = GridSearchCV(SVC(),param_grid)\n",
        "#grid.fit(X_train,y_train)"
      ]
    },
    {
      "cell_type": "code",
      "execution_count": null,
      "id": "c4f58f97",
      "metadata": {
        "id": "c4f58f97"
      },
      "outputs": [],
      "source": [
        "#print(grid.best_params_)\n",
        "#print(grid.score(X_test,y_test))"
      ]
    },
    {
      "cell_type": "code",
      "execution_count": null,
      "id": "cda32497",
      "metadata": {
        "id": "cda32497",
        "outputId": "aa6ee3ae-892f-4564-967c-48ce62b78ded"
      },
      "outputs": [
        {
          "name": "stdout",
          "output_type": "stream",
          "text": [
            "[[3190  118]\n",
            " [ 444 2819]]\n",
            "\n",
            "\n",
            "              precision    recall  f1-score   support\n",
            "\n",
            "           0       0.88      0.96      0.92      3308\n",
            "           1       0.96      0.86      0.91      3263\n",
            "\n",
            "    accuracy                           0.91      6571\n",
            "   macro avg       0.92      0.91      0.91      6571\n",
            "weighted avg       0.92      0.91      0.91      6571\n",
            "\n"
          ]
        }
      ],
      "source": [
        "from sklearn.svm import SVC\n",
        "svc_model = SVC(kernel='linear',C=1000,probability=True,random_state=42)\n",
        "svc_model.fit(X_train, y_train)\n",
        "svc_pred = svc_model.predict(X_test)\n",
        "\n",
        "print(confusion_matrix(y_test,svc_pred))\n",
        "print('\\n')\n",
        "print(classification_report(y_test,svc_pred))"
      ]
    },
    {
      "cell_type": "code",
      "execution_count": null,
      "id": "99cea334",
      "metadata": {
        "id": "99cea334",
        "outputId": "e3bcbfad-3695-4571-9480-bf86308921b6"
      },
      "outputs": [
        {
          "name": "stdout",
          "output_type": "stream",
          "text": [
            "Accuracy: 0.914473\n",
            "Precision: 0.959823\n",
            "Recall: 0.863929\n",
            "F1 score: 0.909355\n"
          ]
        }
      ],
      "source": [
        "from sklearn.metrics import accuracy_score, precision_score, recall_score, f1_score\n",
        "# accuracy: (tp + tn) / (p + n)\n",
        "accuracy = accuracy_score(y_test,svc_pred)\n",
        "print('Accuracy: %f' % accuracy)\n",
        "# precision tp / (tp + fp)\n",
        "precision = precision_score(y_test,svc_pred)\n",
        "print('Precision: %f' % precision)\n",
        "# recall: tp / (tp + fn)\n",
        "recall = recall_score(y_test,svc_pred)\n",
        "print('Recall: %f' % recall)\n",
        "# f1: 2 tp / (2 tp + fp + fn)\n",
        "f1 = f1_score(y_test,svc_pred)\n",
        "print('F1 score: %f' % f1)"
      ]
    },
    {
      "cell_type": "code",
      "execution_count": null,
      "id": "6eaad735",
      "metadata": {
        "id": "6eaad735",
        "outputId": "89c453c7-9d95-4b18-d462-b11483e73156"
      },
      "outputs": [
        {
          "name": "stdout",
          "output_type": "stream",
          "text": [
            "0.9144726830010653\n"
          ]
        }
      ],
      "source": [
        "print(accuracy_score(y_test,svc_pred))"
      ]
    },
    {
      "cell_type": "code",
      "execution_count": null,
      "id": "bf8e963f",
      "metadata": {
        "id": "bf8e963f",
        "outputId": "e1f488e5-8cfd-4f8e-a26f-0891e1b51f9a"
      },
      "outputs": [
        {
          "data": {
            "text/html": [
              "<style>#sk-container-id-3 {color: black;background-color: white;}#sk-container-id-3 pre{padding: 0;}#sk-container-id-3 div.sk-toggleable {background-color: white;}#sk-container-id-3 label.sk-toggleable__label {cursor: pointer;display: block;width: 100%;margin-bottom: 0;padding: 0.3em;box-sizing: border-box;text-align: center;}#sk-container-id-3 label.sk-toggleable__label-arrow:before {content: \"▸\";float: left;margin-right: 0.25em;color: #696969;}#sk-container-id-3 label.sk-toggleable__label-arrow:hover:before {color: black;}#sk-container-id-3 div.sk-estimator:hover label.sk-toggleable__label-arrow:before {color: black;}#sk-container-id-3 div.sk-toggleable__content {max-height: 0;max-width: 0;overflow: hidden;text-align: left;background-color: #f0f8ff;}#sk-container-id-3 div.sk-toggleable__content pre {margin: 0.2em;color: black;border-radius: 0.25em;background-color: #f0f8ff;}#sk-container-id-3 input.sk-toggleable__control:checked~div.sk-toggleable__content {max-height: 200px;max-width: 100%;overflow: auto;}#sk-container-id-3 input.sk-toggleable__control:checked~label.sk-toggleable__label-arrow:before {content: \"▾\";}#sk-container-id-3 div.sk-estimator input.sk-toggleable__control:checked~label.sk-toggleable__label {background-color: #d4ebff;}#sk-container-id-3 div.sk-label input.sk-toggleable__control:checked~label.sk-toggleable__label {background-color: #d4ebff;}#sk-container-id-3 input.sk-hidden--visually {border: 0;clip: rect(1px 1px 1px 1px);clip: rect(1px, 1px, 1px, 1px);height: 1px;margin: -1px;overflow: hidden;padding: 0;position: absolute;width: 1px;}#sk-container-id-3 div.sk-estimator {font-family: monospace;background-color: #f0f8ff;border: 1px dotted black;border-radius: 0.25em;box-sizing: border-box;margin-bottom: 0.5em;}#sk-container-id-3 div.sk-estimator:hover {background-color: #d4ebff;}#sk-container-id-3 div.sk-parallel-item::after {content: \"\";width: 100%;border-bottom: 1px solid gray;flex-grow: 1;}#sk-container-id-3 div.sk-label:hover label.sk-toggleable__label {background-color: #d4ebff;}#sk-container-id-3 div.sk-serial::before {content: \"\";position: absolute;border-left: 1px solid gray;box-sizing: border-box;top: 0;bottom: 0;left: 50%;z-index: 0;}#sk-container-id-3 div.sk-serial {display: flex;flex-direction: column;align-items: center;background-color: white;padding-right: 0.2em;padding-left: 0.2em;position: relative;}#sk-container-id-3 div.sk-item {position: relative;z-index: 1;}#sk-container-id-3 div.sk-parallel {display: flex;align-items: stretch;justify-content: center;background-color: white;position: relative;}#sk-container-id-3 div.sk-item::before, #sk-container-id-3 div.sk-parallel-item::before {content: \"\";position: absolute;border-left: 1px solid gray;box-sizing: border-box;top: 0;bottom: 0;left: 50%;z-index: -1;}#sk-container-id-3 div.sk-parallel-item {display: flex;flex-direction: column;z-index: 1;position: relative;background-color: white;}#sk-container-id-3 div.sk-parallel-item:first-child::after {align-self: flex-end;width: 50%;}#sk-container-id-3 div.sk-parallel-item:last-child::after {align-self: flex-start;width: 50%;}#sk-container-id-3 div.sk-parallel-item:only-child::after {width: 0;}#sk-container-id-3 div.sk-dashed-wrapped {border: 1px dashed gray;margin: 0 0.4em 0.5em 0.4em;box-sizing: border-box;padding-bottom: 0.4em;background-color: white;}#sk-container-id-3 div.sk-label label {font-family: monospace;font-weight: bold;display: inline-block;line-height: 1.2em;}#sk-container-id-3 div.sk-label-container {text-align: center;}#sk-container-id-3 div.sk-container {/* jupyter's `normalize.less` sets `[hidden] { display: none; }` but bootstrap.min.css set `[hidden] { display: none !important; }` so we also need the `!important` here to be able to override the default hidden behavior on the sphinx rendered scikit-learn.org. See: https://github.com/scikit-learn/scikit-learn/issues/21755 */display: inline-block !important;position: relative;}#sk-container-id-3 div.sk-text-repr-fallback {display: none;}</style><div id=\"sk-container-id-3\" class=\"sk-top-container\"><div class=\"sk-text-repr-fallback\"><pre>GridSearchCV(estimator=LogisticRegression(),\n",
              "             param_grid={&#x27;C&#x27;: [0.1, 1, 100, 1000]})</pre><b>In a Jupyter environment, please rerun this cell to show the HTML representation or trust the notebook. <br />On GitHub, the HTML representation is unable to render, please try loading this page with nbviewer.org.</b></div><div class=\"sk-container\" hidden><div class=\"sk-item sk-dashed-wrapped\"><div class=\"sk-label-container\"><div class=\"sk-label sk-toggleable\"><input class=\"sk-toggleable__control sk-hidden--visually\" id=\"sk-estimator-id-5\" type=\"checkbox\" ><label for=\"sk-estimator-id-5\" class=\"sk-toggleable__label sk-toggleable__label-arrow\">GridSearchCV</label><div class=\"sk-toggleable__content\"><pre>GridSearchCV(estimator=LogisticRegression(),\n",
              "             param_grid={&#x27;C&#x27;: [0.1, 1, 100, 1000]})</pre></div></div></div><div class=\"sk-parallel\"><div class=\"sk-parallel-item\"><div class=\"sk-item\"><div class=\"sk-label-container\"><div class=\"sk-label sk-toggleable\"><input class=\"sk-toggleable__control sk-hidden--visually\" id=\"sk-estimator-id-6\" type=\"checkbox\" ><label for=\"sk-estimator-id-6\" class=\"sk-toggleable__label sk-toggleable__label-arrow\">estimator: LogisticRegression</label><div class=\"sk-toggleable__content\"><pre>LogisticRegression()</pre></div></div></div><div class=\"sk-serial\"><div class=\"sk-item\"><div class=\"sk-estimator sk-toggleable\"><input class=\"sk-toggleable__control sk-hidden--visually\" id=\"sk-estimator-id-7\" type=\"checkbox\" ><label for=\"sk-estimator-id-7\" class=\"sk-toggleable__label sk-toggleable__label-arrow\">LogisticRegression</label><div class=\"sk-toggleable__content\"><pre>LogisticRegression()</pre></div></div></div></div></div></div></div></div></div></div>"
            ],
            "text/plain": [
              "GridSearchCV(estimator=LogisticRegression(),\n",
              "             param_grid={'C': [0.1, 1, 100, 1000]})"
            ]
          },
          "execution_count": 63,
          "metadata": {},
          "output_type": "execute_result"
        }
      ],
      "source": [
        "param_grid = {'C':[0.1,1,100,1000]}\n",
        "grid = GridSearchCV(LogisticRegression(),param_grid)\n",
        "grid.fit(X_train,y_train)"
      ]
    },
    {
      "cell_type": "code",
      "execution_count": null,
      "id": "668b968d",
      "metadata": {
        "id": "668b968d",
        "outputId": "7d9023ef-a860-4a54-a35d-8cd34dd5a948"
      },
      "outputs": [
        {
          "name": "stdout",
          "output_type": "stream",
          "text": [
            "{'C': 1000}\n",
            "0.9103637193730025\n"
          ]
        }
      ],
      "source": [
        "print(grid.best_params_)\n",
        "print(grid.score(X_test,y_test))"
      ]
    },
    {
      "cell_type": "code",
      "execution_count": null,
      "id": "f1fe40f5",
      "metadata": {
        "id": "f1fe40f5",
        "outputId": "8db8d960-fcf5-4391-c15d-3ec0a3c9c9f8"
      },
      "outputs": [
        {
          "name": "stdout",
          "output_type": "stream",
          "text": [
            "[[3197  111]\n",
            " [ 478 2785]]\n",
            "\n",
            "\n",
            "              precision    recall  f1-score   support\n",
            "\n",
            "           0       0.87      0.97      0.92      3308\n",
            "           1       0.96      0.85      0.90      3263\n",
            "\n",
            "    accuracy                           0.91      6571\n",
            "   macro avg       0.92      0.91      0.91      6571\n",
            "weighted avg       0.92      0.91      0.91      6571\n",
            "\n"
          ]
        }
      ],
      "source": [
        "lg_model = LogisticRegression(C=1000,random_state=42)\n",
        "lg_model.fit(X_train, y_train)\n",
        "lg_pred = lg_model.predict(X_test)\n",
        "\n",
        "print(confusion_matrix(y_test,lg_pred))\n",
        "print('\\n')\n",
        "print(classification_report(y_test,lg_pred))"
      ]
    },
    {
      "cell_type": "code",
      "execution_count": null,
      "id": "b6e19305",
      "metadata": {
        "id": "b6e19305",
        "outputId": "8f3f9547-f0ea-4922-f0a3-0fdab6787ff4"
      },
      "outputs": [
        {
          "name": "stdout",
          "output_type": "stream",
          "text": [
            "Accuracy: 0.910364\n",
            "Precision: 0.961671\n",
            "Recall: 0.853509\n",
            "F1 score: 0.904368\n"
          ]
        }
      ],
      "source": [
        "from sklearn.metrics import accuracy_score, precision_score, recall_score, f1_score\n",
        "# accuracy: (tp + tn) / (p + n)\n",
        "accuracy = accuracy_score(y_test,lg_pred)\n",
        "print('Accuracy: %f' % accuracy)\n",
        "# precision tp / (tp + fp)\n",
        "precision = precision_score(y_test,lg_pred)\n",
        "print('Precision: %f' % precision)\n",
        "# recall: tp / (tp + fn)\n",
        "recall = recall_score(y_test,lg_pred)\n",
        "print('Recall: %f' % recall)\n",
        "# f1: 2 tp / (2 tp + fp + fn)\n",
        "f1 = f1_score(y_test,lg_pred)\n",
        "print('F1 score: %f' % f1)"
      ]
    },
    {
      "cell_type": "code",
      "execution_count": null,
      "id": "0edefad1",
      "metadata": {
        "id": "0edefad1"
      },
      "outputs": [],
      "source": []
    },
    {
      "cell_type": "code",
      "execution_count": null,
      "id": "8333f7a1",
      "metadata": {
        "id": "8333f7a1"
      },
      "outputs": [],
      "source": [
        "from sklearn.metrics import roc_curve, roc_auc_score\n",
        "from sklearn.calibration import CalibratedClassifierCV\n",
        "\n",
        "# Instantiate the classfiers and make a list\n",
        "classifiers = [LogisticRegression(C=1000,random_state=42),\n",
        "               GaussianNB(), \n",
        "               DecisionTreeClassifier(random_state=42),\n",
        "               RandomForestClassifier(n_estimators=200,random_state=42),\n",
        "               KNeighborsClassifier(n_neighbors=4),\n",
        "               SVC(kernel='linear',C=1000,probability=True,random_state=42)]\n",
        "\n",
        "# Define a result table as a DataFrame\n",
        "result_table = pd.DataFrame(columns=['classifiers', 'fpr','tpr','auc'])\n",
        "\n",
        "# Train the models and record the results\n",
        "\n",
        "for cls in classifiers:\n",
        "    model = cls.fit(X_train, y_train)\n",
        "    yproba = model.predict_proba(X_test)[::,1]\n",
        "    \n",
        "    fpr, tpr, _ = roc_curve(y_test,  yproba)\n",
        "    auc = roc_auc_score(y_test, yproba)\n",
        "    \n",
        "    result_table = result_table.append({'classifiers':cls.__class__.__name__,\n",
        "                                        'fpr':fpr, \n",
        "                                        'tpr':tpr, \n",
        "                                        'auc':auc}, ignore_index=True)\n",
        "\n",
        "# Set name of the classifiers as index labels\n",
        "result_table.set_index('classifiers', inplace=True)"
      ]
    },
    {
      "cell_type": "code",
      "execution_count": null,
      "id": "ac2805e3",
      "metadata": {
        "id": "ac2805e3",
        "outputId": "f48e852c-c0f9-451c-fa1f-209443a30f0c"
      },
      "outputs": [
        {
          "data": {
            "image/png": "[encoded data removed]",
            "text/plain": [
              "<Figure size 576x432 with 1 Axes>"
            ]
          },
          "metadata": {
            "needs_background": "light"
          },
          "output_type": "display_data"
        }
      ],
      "source": [
        "# Plotting ROC curve \n",
        "\n",
        "fig = plt.figure(figsize=(8,6))\n",
        "\n",
        "for i in result_table.index:\n",
        "    plt.plot(result_table.loc[i]['fpr'], \n",
        "             result_table.loc[i]['tpr'], \n",
        "             label=\"{}, AUC={:.3f}\".format(i, result_table.loc[i]['auc']))\n",
        "    \n",
        "plt.plot([0,1], [0,1], color='orange', linestyle='--')\n",
        "\n",
        "plt.xticks(np.arange(0.0, 1.1, step=0.1))\n",
        "plt.xlabel(\"False Positive Rate\", fontsize=15)\n",
        "\n",
        "plt.yticks(np.arange(0.0, 1.1, step=0.1))\n",
        "plt.ylabel(\"True Positive Rate\", fontsize=15)\n",
        "\n",
        "plt.title('ROC Curve Analysis', fontweight='bold', fontsize=15)\n",
        "plt.legend(prop={'size':13}, loc='lower right')\n",
        "\n",
        "plt.show()"
      ]
    },
    {
      "cell_type": "code",
      "execution_count": null,
      "id": "60a92350",
      "metadata": {
        "id": "60a92350"
      },
      "outputs": [],
      "source": [
        "def get_model_results(X_train: np.ndarray, y_train: np.ndarray,\n",
        "                      X_test: np.ndarray, y_test: np.ndarray, model):\n",
        "    \"\"\"\n",
        "    model: sklearn model (e.g. RandomForestClassifier)\n",
        "    \"\"\"\n",
        "    # Fit your training model to your training set\n",
        "    model.fit(X_train, y_train)\n",
        "\n",
        "    # Obtain the predicted values and probabilities from the model \n",
        "    predicted = model.predict(X_test)\n",
        "    \n",
        "    try:\n",
        "        probs = model.predict_proba(X_test)\n",
        "        print('ROC Score:')\n",
        "        print(roc_auc_score(y_test, probs[:,1]))\n",
        "    except AttributeError:\n",
        "        pass\n",
        "\n",
        "    # Print the ROC curve, classification report and confusion matrix\n",
        "    print('\\nClassification Report:')\n",
        "    print(classification_report(y_test, predicted))\n",
        "    print('\\nConfusion Matrix:')\n",
        "    print(confusion_matrix(y_test, predicted))"
      ]
    },
    {
      "cell_type": "code",
      "execution_count": null,
      "id": "31dcfa08",
      "metadata": {
        "id": "31dcfa08"
      },
      "outputs": [],
      "source": [
        "from sklearn.ensemble import VotingClassifier\n",
        "from sklearn.metrics import classification_report\n",
        "# Define the three classifiers to use in the ensemble\n",
        "\n",
        "clf2 = RandomForestClassifier(class_weight={0:5, 1:12},  \n",
        "                              n_estimators=100, \n",
        "                              random_state=42)\n",
        "\n",
        "clf3 = DecisionTreeClassifier(random_state=42)\n",
        "\n",
        "# Combine the classifiers in the ensemble model\n",
        "ensemble_model = VotingClassifier(estimators=[('rf', clf2), ('dt', clf3)], voting='hard')\n",
        "\n",
        "# Get the results \n",
        "get_model_results(X_train, y_train, X_test, y_test, ensemble_model)\n"
      ]
    },
    {
      "cell_type": "markdown",
      "id": "d3100da8",
      "metadata": {
        "id": "d3100da8"
      },
      "source": [
        "from sklearn.ensemble import VotingClassifier\n",
        "from sklearn.metrics import classification_report\n",
        "# Define the three classifiers to use in the ensemble\n",
        "clf1 = RandomForestClassifier(class_weight={0:1, 1:15}, \n",
        "                              criterion='gini', \n",
        "                              max_depth=8, \n",
        "                              max_features='log2',\n",
        "                              min_samples_leaf=10, \n",
        "                              n_estimators=30, \n",
        "                              n_jobs=-1,\n",
        "                              random_state=5)\n",
        "\n",
        "clf2 = SVC(class_weight={0:1, 1:12},\n",
        "                          random_state=5,\n",
        "                          kernel='linear',C=1000)\n",
        "\n",
        "clf3 = DecisionTreeClassifier(random_state=5,\n",
        "                              class_weight=\"balanced\")\n",
        "\n",
        "# Combine the classifiers in the ensemble model\n",
        "ensemble_model = VotingClassifier(estimators=[('rf', clf1), ('svm', clf2), ('dt', clf3)], voting='hard')\n",
        "\n",
        "# Get the results \n",
        "get_model_results(X_train, y_train, X_test, y_test, ensemble_model)"
      ]
    },
    {
      "cell_type": "markdown",
      "id": "7c134d79",
      "metadata": {
        "id": "7c134d79"
      },
      "source": [
        "# Random Undersampling"
      ]
    },
    {
      "cell_type": "code",
      "execution_count": null,
      "id": "0c7a8e81",
      "metadata": {
        "id": "0c7a8e81"
      },
      "outputs": [],
      "source": [
        "import warnings\n",
        "warnings.filterwarnings(\"ignore\", category=DeprecationWarning)"
      ]
    },
    {
      "cell_type": "code",
      "execution_count": null,
      "id": "3c8bc625",
      "metadata": {
        "id": "3c8bc625"
      },
      "outputs": [],
      "source": [
        "7//2"
      ]
    },
    {
      "cell_type": "code",
      "execution_count": null,
      "id": "55d3ea92",
      "metadata": {
        "id": "55d3ea92"
      },
      "outputs": [],
      "source": [
        "num_list = [1,2,3,4]\n",
        "num_list.remove(2)\n",
        "print(num_list)"
      ]
    },
    {
      "cell_type": "code",
      "execution_count": null,
      "id": "f7a4dab3",
      "metadata": {
        "id": "f7a4dab3"
      },
      "outputs": [],
      "source": [
        "5!=6"
      ]
    },
    {
      "cell_type": "code",
      "execution_count": null,
      "id": "b84e17dd",
      "metadata": {
        "id": "b84e17dd"
      },
      "outputs": [],
      "source": [
        "y=\"stuff;think;junk\"\n",
        "z = y.split(';')\n",
        "len(z)"
      ]
    },
    {
      "cell_type": "markdown",
      "id": "fc90d608",
      "metadata": {
        "id": "fc90d608"
      },
      "source": [
        "run any classifier, low dimensionality, run any classifier on this data, low dimensionality, with very high samples. Can do KNN\n",
        "many point of evaluation\n",
        "throw any classifier you can, any can handle this, sub sample data for support vector machine, you got alot of objects here (rows) need to break down to get support vector machine to run\n",
        "#below threshold - all classifiers, not given what best classifier would be. \n",
        "\n",
        "No. of different classifiers in Matlab should be able to use of all of those\n",
        "evaluate alot, graph lots of metrics and assessments - to work on this. \n",
        "visualizations of the data - schoastic neighborhood - part of description not evaluation, help build a case\n",
        "\n",
        "support vector machine is very sensitive - as data will be very unbalanced. do a bit of research on handling unbalanced data set. \n",
        "subsample the dataset - equal sets of fraud and non fraud and do that multiple times with multiple samples\n",
        "sample fraud class alot and non fraud not alot\n",
        "combine the decision output. \n",
        "Possible to build something to deal with classifier presented in balanced dataset. Bootstrap emsembling. \n",
        "\n",
        "Literature review - on fraud detection in finance payment services. \n",
        "Bear in mind ethics - doesn't require ethics, data that has been - low danger - contain sensitive information. \n",
        "\n",
        "quote id... - detect every case. - join the data to find \n"
      ]
    },
    {
      "cell_type": "code",
      "execution_count": null,
      "id": "1cb01d4b",
      "metadata": {
        "id": "1cb01d4b"
      },
      "outputs": [],
      "source": []
    }
  ],
  "metadata": {
    "kernelspec": {
      "display_name": "Python 3 (ipykernel)",
      "language": "python",
      "name": "python3"
    },
    "language_info": {
      "codemirror_mode": {
        "name": "ipython",
        "version": 3
      },
      "file_extension": ".py",
      "mimetype": "text/x-python",
      "name": "python",
      "nbconvert_exporter": "python",
      "pygments_lexer": "ipython3",
      "version": "3.9.7"
    },
    "colab": {
      "provenance": [],
      "include_colab_link": true
    }
  },
  "nbformat": 4,
  "nbformat_minor": 5
}